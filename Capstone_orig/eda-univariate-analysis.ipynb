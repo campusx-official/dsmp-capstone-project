{
 "cells": [
  {
   "cell_type": "code",
   "execution_count": 27,
   "id": "54076bbd",
   "metadata": {},
   "outputs": [],
   "source": [
    "import pandas as pd\n",
    "import numpy as np\n",
    "import matplotlib.pyplot as plt\n",
    "import seaborn as sns"
   ]
  },
  {
   "cell_type": "code",
   "execution_count": 28,
   "id": "cf5aa6a2",
   "metadata": {},
   "outputs": [],
   "source": [
    "df = pd.read_csv('gurgaon_properties_cleaned_v2.csv')"
   ]
  },
  {
   "cell_type": "code",
   "execution_count": 29,
   "id": "ca3369b7",
   "metadata": {},
   "outputs": [
    {
     "data": {
      "text/html": [
       "<div>\n",
       "<style scoped>\n",
       "    .dataframe tbody tr th:only-of-type {\n",
       "        vertical-align: middle;\n",
       "    }\n",
       "\n",
       "    .dataframe tbody tr th {\n",
       "        vertical-align: top;\n",
       "    }\n",
       "\n",
       "    .dataframe thead th {\n",
       "        text-align: right;\n",
       "    }\n",
       "</style>\n",
       "<table border=\"1\" class=\"dataframe\">\n",
       "  <thead>\n",
       "    <tr style=\"text-align: right;\">\n",
       "      <th></th>\n",
       "      <th>property_type</th>\n",
       "      <th>society</th>\n",
       "      <th>sector</th>\n",
       "      <th>price</th>\n",
       "      <th>price_per_sqft</th>\n",
       "      <th>area</th>\n",
       "      <th>areaWithType</th>\n",
       "      <th>bedRoom</th>\n",
       "      <th>bathroom</th>\n",
       "      <th>balcony</th>\n",
       "      <th>...</th>\n",
       "      <th>super_built_up_area</th>\n",
       "      <th>built_up_area</th>\n",
       "      <th>carpet_area</th>\n",
       "      <th>study room</th>\n",
       "      <th>servant room</th>\n",
       "      <th>store room</th>\n",
       "      <th>pooja room</th>\n",
       "      <th>others</th>\n",
       "      <th>furnishing_type</th>\n",
       "      <th>luxury_score</th>\n",
       "    </tr>\n",
       "  </thead>\n",
       "  <tbody>\n",
       "    <tr>\n",
       "      <th>0</th>\n",
       "      <td>flat</td>\n",
       "      <td>signature global park 4</td>\n",
       "      <td>sector 36</td>\n",
       "      <td>0.82</td>\n",
       "      <td>7585.0</td>\n",
       "      <td>1081.0</td>\n",
       "      <td>Super Built up area 1081(100.43 sq.m.)Carpet a...</td>\n",
       "      <td>3</td>\n",
       "      <td>2</td>\n",
       "      <td>2</td>\n",
       "      <td>...</td>\n",
       "      <td>1081.0</td>\n",
       "      <td>NaN</td>\n",
       "      <td>650.0</td>\n",
       "      <td>0</td>\n",
       "      <td>0</td>\n",
       "      <td>0</td>\n",
       "      <td>0</td>\n",
       "      <td>0</td>\n",
       "      <td>0</td>\n",
       "      <td>8</td>\n",
       "    </tr>\n",
       "    <tr>\n",
       "      <th>1</th>\n",
       "      <td>flat</td>\n",
       "      <td>smart world gems</td>\n",
       "      <td>sector 89</td>\n",
       "      <td>0.95</td>\n",
       "      <td>8600.0</td>\n",
       "      <td>1105.0</td>\n",
       "      <td>Carpet area: 1103 (102.47 sq.m.)</td>\n",
       "      <td>2</td>\n",
       "      <td>2</td>\n",
       "      <td>2</td>\n",
       "      <td>...</td>\n",
       "      <td>NaN</td>\n",
       "      <td>NaN</td>\n",
       "      <td>1103.0</td>\n",
       "      <td>1</td>\n",
       "      <td>1</td>\n",
       "      <td>0</td>\n",
       "      <td>0</td>\n",
       "      <td>0</td>\n",
       "      <td>0</td>\n",
       "      <td>38</td>\n",
       "    </tr>\n",
       "    <tr>\n",
       "      <th>2</th>\n",
       "      <td>flat</td>\n",
       "      <td>pyramid elite</td>\n",
       "      <td>sector 86</td>\n",
       "      <td>0.46</td>\n",
       "      <td>79.0</td>\n",
       "      <td>58228.0</td>\n",
       "      <td>Carpet area: 58141 (5401.48 sq.m.)</td>\n",
       "      <td>2</td>\n",
       "      <td>2</td>\n",
       "      <td>1</td>\n",
       "      <td>...</td>\n",
       "      <td>NaN</td>\n",
       "      <td>NaN</td>\n",
       "      <td>58141.0</td>\n",
       "      <td>0</td>\n",
       "      <td>0</td>\n",
       "      <td>0</td>\n",
       "      <td>0</td>\n",
       "      <td>0</td>\n",
       "      <td>0</td>\n",
       "      <td>15</td>\n",
       "    </tr>\n",
       "    <tr>\n",
       "      <th>3</th>\n",
       "      <td>flat</td>\n",
       "      <td>breez global hill view</td>\n",
       "      <td>sohna road</td>\n",
       "      <td>0.32</td>\n",
       "      <td>5470.0</td>\n",
       "      <td>585.0</td>\n",
       "      <td>Built Up area: 1000 (92.9 sq.m.)Carpet area: 5...</td>\n",
       "      <td>2</td>\n",
       "      <td>2</td>\n",
       "      <td>1</td>\n",
       "      <td>...</td>\n",
       "      <td>NaN</td>\n",
       "      <td>1000.0</td>\n",
       "      <td>585.0</td>\n",
       "      <td>0</td>\n",
       "      <td>0</td>\n",
       "      <td>0</td>\n",
       "      <td>0</td>\n",
       "      <td>0</td>\n",
       "      <td>0</td>\n",
       "      <td>49</td>\n",
       "    </tr>\n",
       "    <tr>\n",
       "      <th>4</th>\n",
       "      <td>flat</td>\n",
       "      <td>bestech park view sanskruti</td>\n",
       "      <td>sector 92</td>\n",
       "      <td>1.60</td>\n",
       "      <td>8020.0</td>\n",
       "      <td>1995.0</td>\n",
       "      <td>Super Built up area 1995(185.34 sq.m.)Built Up...</td>\n",
       "      <td>3</td>\n",
       "      <td>4</td>\n",
       "      <td>3+</td>\n",
       "      <td>...</td>\n",
       "      <td>1995.0</td>\n",
       "      <td>1615.0</td>\n",
       "      <td>1476.0</td>\n",
       "      <td>0</td>\n",
       "      <td>1</td>\n",
       "      <td>0</td>\n",
       "      <td>0</td>\n",
       "      <td>1</td>\n",
       "      <td>1</td>\n",
       "      <td>174</td>\n",
       "    </tr>\n",
       "  </tbody>\n",
       "</table>\n",
       "<p>5 rows × 23 columns</p>\n",
       "</div>"
      ],
      "text/plain": [
       "  property_type                      society      sector  price  \\\n",
       "0          flat      signature global park 4   sector 36   0.82   \n",
       "1          flat             smart world gems   sector 89   0.95   \n",
       "2          flat                pyramid elite   sector 86   0.46   \n",
       "3          flat       breez global hill view  sohna road   0.32   \n",
       "4          flat  bestech park view sanskruti   sector 92   1.60   \n",
       "\n",
       "   price_per_sqft     area                                       areaWithType  \\\n",
       "0          7585.0   1081.0  Super Built up area 1081(100.43 sq.m.)Carpet a...   \n",
       "1          8600.0   1105.0                   Carpet area: 1103 (102.47 sq.m.)   \n",
       "2            79.0  58228.0                 Carpet area: 58141 (5401.48 sq.m.)   \n",
       "3          5470.0    585.0  Built Up area: 1000 (92.9 sq.m.)Carpet area: 5...   \n",
       "4          8020.0   1995.0  Super Built up area 1995(185.34 sq.m.)Built Up...   \n",
       "\n",
       "   bedRoom  bathroom balcony  ...  super_built_up_area built_up_area  \\\n",
       "0        3         2       2  ...               1081.0           NaN   \n",
       "1        2         2       2  ...                  NaN           NaN   \n",
       "2        2         2       1  ...                  NaN           NaN   \n",
       "3        2         2       1  ...                  NaN        1000.0   \n",
       "4        3         4      3+  ...               1995.0        1615.0   \n",
       "\n",
       "  carpet_area  study room  servant room  store room  pooja room  others  \\\n",
       "0       650.0           0             0           0           0       0   \n",
       "1      1103.0           1             1           0           0       0   \n",
       "2     58141.0           0             0           0           0       0   \n",
       "3       585.0           0             0           0           0       0   \n",
       "4      1476.0           0             1           0           0       1   \n",
       "\n",
       "   furnishing_type  luxury_score  \n",
       "0                0             8  \n",
       "1                0            38  \n",
       "2                0            15  \n",
       "3                0            49  \n",
       "4                1           174  \n",
       "\n",
       "[5 rows x 23 columns]"
      ]
     },
     "execution_count": 29,
     "metadata": {},
     "output_type": "execute_result"
    }
   ],
   "source": [
    "df.head()"
   ]
  },
  {
   "cell_type": "code",
   "execution_count": 30,
   "id": "611a3665",
   "metadata": {},
   "outputs": [
    {
     "data": {
      "text/plain": [
       "(3803, 23)"
      ]
     },
     "execution_count": 30,
     "metadata": {},
     "output_type": "execute_result"
    }
   ],
   "source": [
    "df.shape"
   ]
  },
  {
   "cell_type": "code",
   "execution_count": 31,
   "id": "82b8c41d",
   "metadata": {},
   "outputs": [
    {
     "name": "stdout",
     "output_type": "stream",
     "text": [
      "<class 'pandas.core.frame.DataFrame'>\n",
      "RangeIndex: 3803 entries, 0 to 3802\n",
      "Data columns (total 23 columns):\n",
      " #   Column               Non-Null Count  Dtype  \n",
      "---  ------               --------------  -----  \n",
      " 0   property_type        3803 non-null   object \n",
      " 1   society              3802 non-null   object \n",
      " 2   sector               3803 non-null   object \n",
      " 3   price                3785 non-null   float64\n",
      " 4   price_per_sqft       3785 non-null   float64\n",
      " 5   area                 3785 non-null   float64\n",
      " 6   areaWithType         3803 non-null   object \n",
      " 7   bedRoom              3803 non-null   int64  \n",
      " 8   bathroom             3803 non-null   int64  \n",
      " 9   balcony              3803 non-null   object \n",
      " 10  floorNum             3784 non-null   float64\n",
      " 11  facing               2698 non-null   object \n",
      " 12  agePossession        3803 non-null   object \n",
      " 13  super_built_up_area  1915 non-null   float64\n",
      " 14  built_up_area        1733 non-null   float64\n",
      " 15  carpet_area          1944 non-null   float64\n",
      " 16  study room           3803 non-null   int64  \n",
      " 17  servant room         3803 non-null   int64  \n",
      " 18  store room           3803 non-null   int64  \n",
      " 19  pooja room           3803 non-null   int64  \n",
      " 20  others               3803 non-null   int64  \n",
      " 21  furnishing_type      3803 non-null   int64  \n",
      " 22  luxury_score         3803 non-null   int64  \n",
      "dtypes: float64(7), int64(9), object(7)\n",
      "memory usage: 683.5+ KB\n"
     ]
    }
   ],
   "source": [
    "df.info()"
   ]
  },
  {
   "cell_type": "code",
   "execution_count": 32,
   "id": "7205eb3d",
   "metadata": {},
   "outputs": [
    {
     "data": {
      "text/plain": [
       "126"
      ]
     },
     "execution_count": 32,
     "metadata": {},
     "output_type": "execute_result"
    }
   ],
   "source": [
    "df.duplicated().sum()"
   ]
  },
  {
   "cell_type": "code",
   "execution_count": 34,
   "id": "5ff1b123",
   "metadata": {},
   "outputs": [],
   "source": [
    "df.drop_duplicates(inplace=True)"
   ]
  },
  {
   "cell_type": "code",
   "execution_count": 35,
   "id": "2e7b8af3",
   "metadata": {},
   "outputs": [
    {
     "data": {
      "text/html": [
       "<div>\n",
       "<style scoped>\n",
       "    .dataframe tbody tr th:only-of-type {\n",
       "        vertical-align: middle;\n",
       "    }\n",
       "\n",
       "    .dataframe tbody tr th {\n",
       "        vertical-align: top;\n",
       "    }\n",
       "\n",
       "    .dataframe thead th {\n",
       "        text-align: right;\n",
       "    }\n",
       "</style>\n",
       "<table border=\"1\" class=\"dataframe\">\n",
       "  <thead>\n",
       "    <tr style=\"text-align: right;\">\n",
       "      <th></th>\n",
       "      <th>property_type</th>\n",
       "      <th>society</th>\n",
       "      <th>sector</th>\n",
       "      <th>price</th>\n",
       "      <th>price_per_sqft</th>\n",
       "      <th>area</th>\n",
       "      <th>areaWithType</th>\n",
       "      <th>bedRoom</th>\n",
       "      <th>bathroom</th>\n",
       "      <th>balcony</th>\n",
       "      <th>...</th>\n",
       "      <th>super_built_up_area</th>\n",
       "      <th>built_up_area</th>\n",
       "      <th>carpet_area</th>\n",
       "      <th>study room</th>\n",
       "      <th>servant room</th>\n",
       "      <th>store room</th>\n",
       "      <th>pooja room</th>\n",
       "      <th>others</th>\n",
       "      <th>furnishing_type</th>\n",
       "      <th>luxury_score</th>\n",
       "    </tr>\n",
       "  </thead>\n",
       "  <tbody>\n",
       "    <tr>\n",
       "      <th>0</th>\n",
       "      <td>flat</td>\n",
       "      <td>signature global park 4</td>\n",
       "      <td>sector 36</td>\n",
       "      <td>0.82</td>\n",
       "      <td>7585.0</td>\n",
       "      <td>1081.0</td>\n",
       "      <td>Super Built up area 1081(100.43 sq.m.)Carpet a...</td>\n",
       "      <td>3</td>\n",
       "      <td>2</td>\n",
       "      <td>2</td>\n",
       "      <td>...</td>\n",
       "      <td>1081.0</td>\n",
       "      <td>NaN</td>\n",
       "      <td>650.0</td>\n",
       "      <td>0</td>\n",
       "      <td>0</td>\n",
       "      <td>0</td>\n",
       "      <td>0</td>\n",
       "      <td>0</td>\n",
       "      <td>0</td>\n",
       "      <td>8</td>\n",
       "    </tr>\n",
       "    <tr>\n",
       "      <th>1</th>\n",
       "      <td>flat</td>\n",
       "      <td>smart world gems</td>\n",
       "      <td>sector 89</td>\n",
       "      <td>0.95</td>\n",
       "      <td>8600.0</td>\n",
       "      <td>1105.0</td>\n",
       "      <td>Carpet area: 1103 (102.47 sq.m.)</td>\n",
       "      <td>2</td>\n",
       "      <td>2</td>\n",
       "      <td>2</td>\n",
       "      <td>...</td>\n",
       "      <td>NaN</td>\n",
       "      <td>NaN</td>\n",
       "      <td>1103.0</td>\n",
       "      <td>1</td>\n",
       "      <td>1</td>\n",
       "      <td>0</td>\n",
       "      <td>0</td>\n",
       "      <td>0</td>\n",
       "      <td>0</td>\n",
       "      <td>38</td>\n",
       "    </tr>\n",
       "    <tr>\n",
       "      <th>2</th>\n",
       "      <td>flat</td>\n",
       "      <td>pyramid elite</td>\n",
       "      <td>sector 86</td>\n",
       "      <td>0.46</td>\n",
       "      <td>79.0</td>\n",
       "      <td>58228.0</td>\n",
       "      <td>Carpet area: 58141 (5401.48 sq.m.)</td>\n",
       "      <td>2</td>\n",
       "      <td>2</td>\n",
       "      <td>1</td>\n",
       "      <td>...</td>\n",
       "      <td>NaN</td>\n",
       "      <td>NaN</td>\n",
       "      <td>58141.0</td>\n",
       "      <td>0</td>\n",
       "      <td>0</td>\n",
       "      <td>0</td>\n",
       "      <td>0</td>\n",
       "      <td>0</td>\n",
       "      <td>0</td>\n",
       "      <td>15</td>\n",
       "    </tr>\n",
       "    <tr>\n",
       "      <th>3</th>\n",
       "      <td>flat</td>\n",
       "      <td>breez global hill view</td>\n",
       "      <td>sohna road</td>\n",
       "      <td>0.32</td>\n",
       "      <td>5470.0</td>\n",
       "      <td>585.0</td>\n",
       "      <td>Built Up area: 1000 (92.9 sq.m.)Carpet area: 5...</td>\n",
       "      <td>2</td>\n",
       "      <td>2</td>\n",
       "      <td>1</td>\n",
       "      <td>...</td>\n",
       "      <td>NaN</td>\n",
       "      <td>1000.0</td>\n",
       "      <td>585.0</td>\n",
       "      <td>0</td>\n",
       "      <td>0</td>\n",
       "      <td>0</td>\n",
       "      <td>0</td>\n",
       "      <td>0</td>\n",
       "      <td>0</td>\n",
       "      <td>49</td>\n",
       "    </tr>\n",
       "    <tr>\n",
       "      <th>4</th>\n",
       "      <td>flat</td>\n",
       "      <td>bestech park view sanskruti</td>\n",
       "      <td>sector 92</td>\n",
       "      <td>1.60</td>\n",
       "      <td>8020.0</td>\n",
       "      <td>1995.0</td>\n",
       "      <td>Super Built up area 1995(185.34 sq.m.)Built Up...</td>\n",
       "      <td>3</td>\n",
       "      <td>4</td>\n",
       "      <td>3+</td>\n",
       "      <td>...</td>\n",
       "      <td>1995.0</td>\n",
       "      <td>1615.0</td>\n",
       "      <td>1476.0</td>\n",
       "      <td>0</td>\n",
       "      <td>1</td>\n",
       "      <td>0</td>\n",
       "      <td>0</td>\n",
       "      <td>1</td>\n",
       "      <td>1</td>\n",
       "      <td>174</td>\n",
       "    </tr>\n",
       "  </tbody>\n",
       "</table>\n",
       "<p>5 rows × 23 columns</p>\n",
       "</div>"
      ],
      "text/plain": [
       "  property_type                      society      sector  price  \\\n",
       "0          flat      signature global park 4   sector 36   0.82   \n",
       "1          flat             smart world gems   sector 89   0.95   \n",
       "2          flat                pyramid elite   sector 86   0.46   \n",
       "3          flat       breez global hill view  sohna road   0.32   \n",
       "4          flat  bestech park view sanskruti   sector 92   1.60   \n",
       "\n",
       "   price_per_sqft     area                                       areaWithType  \\\n",
       "0          7585.0   1081.0  Super Built up area 1081(100.43 sq.m.)Carpet a...   \n",
       "1          8600.0   1105.0                   Carpet area: 1103 (102.47 sq.m.)   \n",
       "2            79.0  58228.0                 Carpet area: 58141 (5401.48 sq.m.)   \n",
       "3          5470.0    585.0  Built Up area: 1000 (92.9 sq.m.)Carpet area: 5...   \n",
       "4          8020.0   1995.0  Super Built up area 1995(185.34 sq.m.)Built Up...   \n",
       "\n",
       "   bedRoom  bathroom balcony  ...  super_built_up_area built_up_area  \\\n",
       "0        3         2       2  ...               1081.0           NaN   \n",
       "1        2         2       2  ...                  NaN           NaN   \n",
       "2        2         2       1  ...                  NaN           NaN   \n",
       "3        2         2       1  ...                  NaN        1000.0   \n",
       "4        3         4      3+  ...               1995.0        1615.0   \n",
       "\n",
       "  carpet_area  study room  servant room  store room  pooja room  others  \\\n",
       "0       650.0           0             0           0           0       0   \n",
       "1      1103.0           1             1           0           0       0   \n",
       "2     58141.0           0             0           0           0       0   \n",
       "3       585.0           0             0           0           0       0   \n",
       "4      1476.0           0             1           0           0       1   \n",
       "\n",
       "   furnishing_type  luxury_score  \n",
       "0                0             8  \n",
       "1                0            38  \n",
       "2                0            15  \n",
       "3                0            49  \n",
       "4                1           174  \n",
       "\n",
       "[5 rows x 23 columns]"
      ]
     },
     "execution_count": 35,
     "metadata": {},
     "output_type": "execute_result"
    }
   ],
   "source": [
    "df.head()"
   ]
  },
  {
   "cell_type": "markdown",
   "id": "056eaf91",
   "metadata": {},
   "source": [
    "### property_type"
   ]
  },
  {
   "cell_type": "code",
   "execution_count": 40,
   "id": "88c9fe72",
   "metadata": {},
   "outputs": [
    {
     "data": {
      "text/plain": [
       "<AxesSubplot:>"
      ]
     },
     "execution_count": 40,
     "metadata": {},
     "output_type": "execute_result"
    },
    {
     "data": {
      "image/png": "[encoded data removed]",
      "text/plain": [
       "<Figure size 432x288 with 1 Axes>"
      ]
     },
     "metadata": {
      "needs_background": "light"
     },
     "output_type": "display_data"
    }
   ],
   "source": [
    "df['property_type'].value_counts().plot(kind='bar',)"
   ]
  },
  {
   "cell_type": "markdown",
   "id": "e7bf41ed",
   "metadata": {},
   "source": [
    "#### Observations\n",
    "\n",
    "- Flats are in majority(75 percent) and there are less number of houses(~25 percent)\n",
    "- No missing values"
   ]
  },
  {
   "cell_type": "markdown",
   "id": "8cb9e092",
   "metadata": {},
   "source": [
    "### society"
   ]
  },
  {
   "cell_type": "code",
   "execution_count": 42,
   "id": "8a51c475",
   "metadata": {},
   "outputs": [
    {
     "data": {
      "text/plain": [
       "(676,)"
      ]
     },
     "execution_count": 42,
     "metadata": {},
     "output_type": "execute_result"
    }
   ],
   "source": [
    "df['society'].value_counts().shape"
   ]
  },
  {
   "cell_type": "code",
   "execution_count": 60,
   "id": "d496d31f",
   "metadata": {},
   "outputs": [
    {
     "data": {
      "text/plain": [
       "independent                               486\n",
       "tulip violet                               75\n",
       "ss the leaf                                73\n",
       "dlf new town heights                       42\n",
       "shapoorji pallonji joyville gurugram       42\n",
       "                                         ... \n",
       "dlf gardencity enclave                      1\n",
       "nitin vihar                                 1\n",
       "landmark the residency                      1\n",
       "kw royal court                              1\n",
       "surendra homes dayaindependentd colony      1\n",
       "Name: society, Length: 676, dtype: int64"
      ]
     },
     "execution_count": 60,
     "metadata": {},
     "output_type": "execute_result"
    }
   ],
   "source": [
    "df['society'].value_counts()"
   ]
  },
  {
   "cell_type": "code",
   "execution_count": 62,
   "id": "4e52cd44",
   "metadata": {},
   "outputs": [
    {
     "data": {
      "text/plain": [
       "tulip violet                            0.023511\n",
       "ss the leaf                             0.046395\n",
       "shapoorji pallonji joyville gurugram    0.059561\n",
       "dlf new town heights                    0.072727\n",
       "signature global park                   0.083699\n",
       "                                          ...   \n",
       "ramsons kshitij                         0.490282\n",
       "umang monsoon breeze                    0.494357\n",
       "ats kocoon                              0.498433\n",
       "ireo the corridors                      0.502194\n",
       "central park flower valley              0.505956\n",
       "Name: society, Length: 75, dtype: float64"
      ]
     },
     "execution_count": 62,
     "metadata": {},
     "output_type": "execute_result"
    }
   ],
   "source": [
    "df[df['society'] != 'independent']['society'].value_counts(normalize=True).cumsum().head(75)"
   ]
  },
  {
   "cell_type": "code",
   "execution_count": 63,
   "id": "d68a149f",
   "metadata": {},
   "outputs": [
    {
     "data": {
      "text/plain": [
       "{'Very High (>100)': 1,\n",
       " 'High (50-100)': 2,\n",
       " 'Average (10-49)': 92,\n",
       " 'Low (2-9)': 273,\n",
       " 'Very Low (1)': 308}"
      ]
     },
     "execution_count": 63,
     "metadata": {},
     "output_type": "execute_result"
    }
   ],
   "source": [
    "society_counts = df['society'].value_counts()\n",
    "\n",
    "# Frequency distribution for societies\n",
    "frequency_bins = {\n",
    "    \"Very High (>100)\": (society_counts > 100).sum(),\n",
    "    \"High (50-100)\": ((society_counts >= 50) & (society_counts <= 100)).sum(),\n",
    "    \"Average (10-49)\": ((society_counts >= 10) & (society_counts < 50)).sum(),\n",
    "    \"Low (2-9)\": ((society_counts > 1) & (society_counts < 10)).sum(),\n",
    "    \"Very Low (1)\": (society_counts == 1).sum()\n",
    "}\n",
    "frequency_bins"
   ]
  },
  {
   "cell_type": "code",
   "execution_count": 47,
   "id": "0fbabda6",
   "metadata": {},
   "outputs": [
    {
     "data": {
      "text/plain": [
       "<AxesSubplot:>"
      ]
     },
     "execution_count": 47,
     "metadata": {},
     "output_type": "execute_result"
    },
    {
     "data": {
      "image/png": "[encoded data removed]",
      "text/plain": [
       "<Figure size 432x288 with 1 Axes>"
      ]
     },
     "metadata": {
      "needs_background": "light"
     },
     "output_type": "display_data"
    }
   ],
   "source": [
    "# top 10 socities\n",
    "df[df['society'] != 'independent']['society'].value_counts().head(10).plot(kind='bar')"
   ]
  },
  {
   "cell_type": "code",
   "execution_count": 48,
   "id": "c4d00037",
   "metadata": {},
   "outputs": [
    {
     "data": {
      "text/plain": [
       "1"
      ]
     },
     "execution_count": 48,
     "metadata": {},
     "output_type": "execute_result"
    }
   ],
   "source": [
    "df['society'].isnull().sum()"
   ]
  },
  {
   "cell_type": "code",
   "execution_count": 58,
   "id": "6509b715",
   "metadata": {},
   "outputs": [
    {
     "data": {
      "text/html": [
       "<div>\n",
       "<style scoped>\n",
       "    .dataframe tbody tr th:only-of-type {\n",
       "        vertical-align: middle;\n",
       "    }\n",
       "\n",
       "    .dataframe tbody tr th {\n",
       "        vertical-align: top;\n",
       "    }\n",
       "\n",
       "    .dataframe thead th {\n",
       "        text-align: right;\n",
       "    }\n",
       "</style>\n",
       "<table border=\"1\" class=\"dataframe\">\n",
       "  <thead>\n",
       "    <tr style=\"text-align: right;\">\n",
       "      <th></th>\n",
       "      <th>property_type</th>\n",
       "      <th>society</th>\n",
       "      <th>sector</th>\n",
       "      <th>price</th>\n",
       "      <th>price_per_sqft</th>\n",
       "      <th>area</th>\n",
       "      <th>areaWithType</th>\n",
       "      <th>bedRoom</th>\n",
       "      <th>bathroom</th>\n",
       "      <th>balcony</th>\n",
       "      <th>...</th>\n",
       "      <th>super_built_up_area</th>\n",
       "      <th>built_up_area</th>\n",
       "      <th>carpet_area</th>\n",
       "      <th>study room</th>\n",
       "      <th>servant room</th>\n",
       "      <th>store room</th>\n",
       "      <th>pooja room</th>\n",
       "      <th>others</th>\n",
       "      <th>furnishing_type</th>\n",
       "      <th>luxury_score</th>\n",
       "    </tr>\n",
       "  </thead>\n",
       "  <tbody>\n",
       "    <tr>\n",
       "      <th>2693</th>\n",
       "      <td>flat</td>\n",
       "      <td>NaN</td>\n",
       "      <td>sector 78</td>\n",
       "      <td>0.6</td>\n",
       "      <td>3692.0</td>\n",
       "      <td>1625.0</td>\n",
       "      <td>Built Up area: 1625 (150.97 sq.m.)</td>\n",
       "      <td>2</td>\n",
       "      <td>2</td>\n",
       "      <td>0</td>\n",
       "      <td>...</td>\n",
       "      <td>NaN</td>\n",
       "      <td>1625.0</td>\n",
       "      <td>NaN</td>\n",
       "      <td>0</td>\n",
       "      <td>0</td>\n",
       "      <td>0</td>\n",
       "      <td>0</td>\n",
       "      <td>0</td>\n",
       "      <td>0</td>\n",
       "      <td>0</td>\n",
       "    </tr>\n",
       "  </tbody>\n",
       "</table>\n",
       "<p>1 rows × 23 columns</p>\n",
       "</div>"
      ],
      "text/plain": [
       "     property_type society     sector  price  price_per_sqft    area  \\\n",
       "2693          flat     NaN  sector 78    0.6          3692.0  1625.0   \n",
       "\n",
       "                            areaWithType  bedRoom  bathroom balcony  ...  \\\n",
       "2693  Built Up area: 1625 (150.97 sq.m.)        2         2       0  ...   \n",
       "\n",
       "      super_built_up_area built_up_area carpet_area  study room  servant room  \\\n",
       "2693                  NaN        1625.0         NaN           0             0   \n",
       "\n",
       "      store room  pooja room  others  furnishing_type  luxury_score  \n",
       "2693           0           0       0                0             0  \n",
       "\n",
       "[1 rows x 23 columns]"
      ]
     },
     "execution_count": 58,
     "metadata": {},
     "output_type": "execute_result"
    }
   ],
   "source": [
    "df[df['society'].isnull()]"
   ]
  },
  {
   "cell_type": "markdown",
   "id": "b240feb1",
   "metadata": {},
   "source": [
    "#### Observations\n",
    "\n",
    "- Around 13% properties comes under independent tag.\n",
    "- There are 675 societies. \n",
    "- The top 75 societies have 50 percent of the preperties and the rest 50 percent of the properties come under the remaining 600 societies\n",
    "    - Very High (>100): Only 1 society has more than 100 listings.\n",
    "    - High (50-100): 2 societies have between 50 to 100 listings.\n",
    "    - Average (10-49): 92 societies fall in this range with 10 to 49 listings each.\n",
    "    - Low (2-9): 273 societies have between 2 to 9 listings.\n",
    "    - Very Low (1): A significant number, 308 societies, have only 1 listing.\n",
    "- 1 missing value"
   ]
  },
  {
   "cell_type": "markdown",
   "id": "2cf823d5",
   "metadata": {},
   "source": [
    "### sector"
   ]
  },
  {
   "cell_type": "code",
   "execution_count": 65,
   "id": "9490f061",
   "metadata": {},
   "outputs": [
    {
     "data": {
      "text/plain": [
       "(104,)"
      ]
     },
     "execution_count": 65,
     "metadata": {},
     "output_type": "execute_result"
    }
   ],
   "source": [
    "# unique sectors\n",
    "df['sector'].value_counts().shape"
   ]
  },
  {
   "cell_type": "code",
   "execution_count": 66,
   "id": "f0c46677",
   "metadata": {},
   "outputs": [
    {
     "data": {
      "text/plain": [
       "<AxesSubplot:>"
      ]
     },
     "execution_count": 66,
     "metadata": {},
     "output_type": "execute_result"
    },
    {
     "data": {
      "image/png": "[encoded data removed]",
      "text/plain": [
       "<Figure size 432x288 with 1 Axes>"
      ]
     },
     "metadata": {
      "needs_background": "light"
     },
     "output_type": "display_data"
    }
   ],
   "source": [
    "# top 10 sectors\n",
    "df['sector'].value_counts().head(10).plot(kind='bar')"
   ]
  },
  {
   "cell_type": "code",
   "execution_count": 67,
   "id": "227b69cc",
   "metadata": {},
   "outputs": [
    {
     "data": {
      "text/plain": [
       "{'Very High (>100)': 3,\n",
       " 'High (50-100)': 25,\n",
       " 'Average (10-49)': 60,\n",
       " 'Low (2-9)': 16,\n",
       " 'Very Low (1)': 0}"
      ]
     },
     "execution_count": 67,
     "metadata": {},
     "output_type": "execute_result"
    }
   ],
   "source": [
    "# Frequency distribution for sectors\n",
    "sector_counts = df['sector'].value_counts()\n",
    "\n",
    "sector_frequency_bins = {\n",
    "    \"Very High (>100)\": (sector_counts > 100).sum(),\n",
    "    \"High (50-100)\": ((sector_counts >= 50) & (sector_counts <= 100)).sum(),\n",
    "    \"Average (10-49)\": ((sector_counts >= 10) & (sector_counts < 50)).sum(),\n",
    "    \"Low (2-9)\": ((sector_counts > 1) & (sector_counts < 10)).sum(),\n",
    "    \"Very Low (1)\": (sector_counts == 1).sum()\n",
    "}\n",
    "\n",
    "sector_frequency_bins"
   ]
  },
  {
   "cell_type": "markdown",
   "id": "9fc2b96e",
   "metadata": {},
   "source": [
    "#### Observations\n",
    "\n",
    "- There are a total of 104 unique sectors in the dataset.\n",
    "- Frequency distribution of sectors:\n",
    "    - Very High (>100): 3 sectors have more than 100 listings.\n",
    "    - High (50-100): 25 sectors have between 50 to 100 listings.\n",
    "    - Average (10-49): A majority, 60 sectors, fall in this range with 10 to 49 listings each.\n",
    "    - Low (2-9): 16 sectors have between 2 to 9 listings.\n",
    "    - Very Low (1): Interestingly, there are no sectors with only 1 listing."
   ]
  },
  {
   "cell_type": "markdown",
   "id": "ebc6c66a",
   "metadata": {},
   "source": [
    "### Price"
   ]
  },
  {
   "cell_type": "code",
   "execution_count": 68,
   "id": "ed008885",
   "metadata": {},
   "outputs": [
    {
     "data": {
      "text/plain": [
       "17"
      ]
     },
     "execution_count": 68,
     "metadata": {},
     "output_type": "execute_result"
    }
   ],
   "source": [
    "df['price'].isnull().sum()"
   ]
  },
  {
   "cell_type": "code",
   "execution_count": 69,
   "id": "21041d71",
   "metadata": {},
   "outputs": [
    {
     "data": {
      "text/plain": [
       "count    3660.000000\n",
       "mean        2.533664\n",
       "std         2.980623\n",
       "min         0.070000\n",
       "25%         0.950000\n",
       "50%         1.520000\n",
       "75%         2.750000\n",
       "max        31.500000\n",
       "Name: price, dtype: float64"
      ]
     },
     "execution_count": 69,
     "metadata": {},
     "output_type": "execute_result"
    }
   ],
   "source": [
    "df['price'].describe()"
   ]
  },
  {
   "cell_type": "code",
   "execution_count": 86,
   "id": "dcd16341",
   "metadata": {},
   "outputs": [
    {
     "data": {
      "text/plain": [
       "<AxesSubplot:xlabel='price', ylabel='Count'>"
      ]
     },
     "execution_count": 86,
     "metadata": {},
     "output_type": "execute_result"
    },
    {
     "data": {
      "image/png": "[encoded data removed]",
      "text/plain": [
       "<Figure size 432x288 with 1 Axes>"
      ]
     },
     "metadata": {
      "needs_background": "light"
     },
     "output_type": "display_data"
    }
   ],
   "source": [
    "sns.histplot(df['price'], kde=True, bins=50)"
   ]
  },
  {
   "cell_type": "code",
   "execution_count": 79,
   "id": "bc7ea5c8",
   "metadata": {},
   "outputs": [
    {
     "data": {
      "image/png": "[encoded data removed]",
      "text/plain": [
       "<Figure size 432x288 with 1 Axes>"
      ]
     },
     "metadata": {
      "needs_background": "light"
     },
     "output_type": "display_data"
    }
   ],
   "source": [
    "sns.boxplot(x=df['price'], color='lightgreen')\n",
    "plt.grid()"
   ]
  },
  {
   "cell_type": "markdown",
   "id": "5f910d8f",
   "metadata": {},
   "source": [
    "- Descriptive Statistics:\n",
    "\n",
    "    - Count: There are 3,660 non-missing price entries.\n",
    "    - Mean Price: The average price is approximately 2.53 crores.\n",
    "    - Median Price: The median (or 50th percentile) price is 1.52 crores.\n",
    "    - Standard Deviation: The prices have a standard deviation of 2.98, indicating variability in the prices.\n",
    "    - Range: Prices range from a minimum of 0.07 crores to a maximum of 31.5 crores.\n",
    "    - IQR: The interquartile range (difference between 75th and 25th percentile) is from 0.95 crores to 2.75 crores.\n",
    "\n",
    "\n",
    "- Visualizations:\n",
    "\n",
    "    - Distribution: The histogram indicates that most properties are priced in the lower range (below 5 crores), with a few properties going beyond 10 crores.\n",
    "    - Box Plot: The box plot showcases the spread of the data and potential outliers. Properties priced above approximately 10 crores might be considered outliers as they lie beyond the upper whisker of the box plot.\n",
    " \n",
    "\n",
    "- Missing Values: There are 17 missing values in the price column."
   ]
  },
  {
   "cell_type": "code",
   "execution_count": 88,
   "id": "a769c5f8",
   "metadata": {},
   "outputs": [
    {
     "name": "stdout",
     "output_type": "stream",
     "text": [
      "3.2791704733134623 14.933372629214258\n"
     ]
    }
   ],
   "source": [
    "# Skewness and Kurtosis\n",
    "skewness = df['price'].skew()\n",
    "kurtosis = df['price'].kurt()\n",
    "\n",
    "print(skewness,kurtosis)"
   ]
  },
  {
   "cell_type": "markdown",
   "id": "77c35665",
   "metadata": {},
   "source": [
    "**Skewness**: The price distribution has a skewness of approximately 3.28, indicating a positive skew. This means that the distribution tail is skewed to the right, which aligns with our observation from the histogram where most properties have prices on the lower end with a few high-priced properties.\n",
    "\n",
    "**Kurtosis**: The kurtosis value is approximately 14.93. A kurtosis value greater than 3 indicates a distribution with heavier tails and more outliers compared to a normal distribution."
   ]
  },
  {
   "cell_type": "code",
   "execution_count": 89,
   "id": "dd7cca36",
   "metadata": {},
   "outputs": [
    {
     "data": {
      "text/plain": [
       "0.01     0.250\n",
       "0.05     0.370\n",
       "0.95     8.500\n",
       "0.99    15.264\n",
       "Name: price, dtype: float64"
      ]
     },
     "execution_count": 89,
     "metadata": {},
     "output_type": "execute_result"
    }
   ],
   "source": [
    "# Quantile Analysis\n",
    "quantiles = df['price'].quantile([0.01, 0.05, 0.95, 0.99])\n",
    "\n",
    "quantiles"
   ]
  },
  {
   "cell_type": "markdown",
   "id": "a5ec3767",
   "metadata": {},
   "source": [
    "Quantile Analysis:\n",
    "\n",
    "- 1% Quantile: Only 1% of properties are priced below 0.25 crores.\n",
    "- 5% Quantile: 5% of properties are priced below 0.37 crores.\n",
    "- 95% Quantile: 95% of properties are priced below 8.5 crores.\n",
    "- 99% Quantile: 99% of properties are priced below 15.26 crores, indicating that very few properties are priced above this value."
   ]
  },
  {
   "cell_type": "code",
   "execution_count": 90,
   "id": "c9b659c2",
   "metadata": {},
   "outputs": [
    {
     "data": {
      "text/plain": [
       "1.8"
      ]
     },
     "execution_count": 90,
     "metadata": {},
     "output_type": "execute_result"
    }
   ],
   "source": [
    "# Identify potential outliers using IQR method\n",
    "Q1 = df['price'].describe()['25%']\n",
    "Q3 = df['price'].describe()['75%']\n",
    "IQR = Q3 - Q1\n",
    "\n",
    "IQR"
   ]
  },
  {
   "cell_type": "code",
   "execution_count": 91,
   "id": "0e06931b",
   "metadata": {},
   "outputs": [
    {
     "name": "stdout",
     "output_type": "stream",
     "text": [
      "-1.7500000000000002 5.45\n"
     ]
    }
   ],
   "source": [
    "lower_bound = Q1 - 1.5 * IQR\n",
    "upper_bound = Q3 + 1.5 * IQR\n",
    "\n",
    "print(lower_bound, upper_bound)"
   ]
  },
  {
   "cell_type": "code",
   "execution_count": 95,
   "id": "1b6b09fa",
   "metadata": {},
   "outputs": [
    {
     "data": {
      "text/plain": [
       "(425, 23)"
      ]
     },
     "execution_count": 95,
     "metadata": {},
     "output_type": "execute_result"
    }
   ],
   "source": [
    "outliers = df[(df['price'] < lower_bound) | (df['price'] > upper_bound)]\n",
    "outliers.shape"
   ]
  },
  {
   "cell_type": "code",
   "execution_count": 96,
   "id": "81eb93a2",
   "metadata": {},
   "outputs": [
    {
     "data": {
      "text/plain": [
       "count    425.000000\n",
       "mean       9.235624\n",
       "std        4.065259\n",
       "min        5.460000\n",
       "25%        6.460000\n",
       "50%        8.000000\n",
       "75%       10.750000\n",
       "max       31.500000\n",
       "Name: price, dtype: float64"
      ]
     },
     "execution_count": 96,
     "metadata": {},
     "output_type": "execute_result"
    }
   ],
   "source": [
    "outliers['price'].describe()"
   ]
  },
  {
   "cell_type": "markdown",
   "id": "33ae240e",
   "metadata": {},
   "source": [
    "Outliers Analysis (using IQR method):\n",
    "\n",
    "- Based on the IQR method, there are 425 properties considered as outliers.\n",
    "- These outliers have an average price of approximately 9.24 crores.\n",
    "- The range for these outliers is from 5.46 crores to 31.5 crores."
   ]
  },
  {
   "cell_type": "code",
   "execution_count": 98,
   "id": "da192879",
   "metadata": {},
   "outputs": [
    {
     "data": {
      "text/plain": [
       "<AxesSubplot:>"
      ]
     },
     "execution_count": 98,
     "metadata": {},
     "output_type": "execute_result"
    },
    {
     "data": {
      "image/png": "[encoded data removed]",
      "text/plain": [
       "<Figure size 432x288 with 1 Axes>"
      ]
     },
     "metadata": {
      "needs_background": "light"
     },
     "output_type": "display_data"
    }
   ],
   "source": [
    "# price binning\n",
    "bins = [0, 1, 2, 3, 5, 10, 20, 50]\n",
    "bin_labels = [\"0-1\", \"1-2\", \"2-3\", \"3-5\", \"5-10\", \"10-20\", \"20-50\"]\n",
    "pd.cut(df['price'], bins=bins, labels=bin_labels, right=False).value_counts().sort_index().plot(kind='bar')"
   ]
  },
  {
   "cell_type": "markdown",
   "id": "b6cbcac3",
   "metadata": {},
   "source": [
    "- The majority of properties are priced in the \"1-2 crores\" and \"2-3 crores\" ranges.\n",
    "- There's a significant drop in the number of properties priced above \"5 crores.\""
   ]
  },
  {
   "cell_type": "code",
   "execution_count": 101,
   "id": "3273f0a4",
   "metadata": {},
   "outputs": [
    {
     "data": {
      "image/png": "[encoded data removed]",
      "text/plain": [
       "<Figure size 432x288 with 1 Axes>"
      ]
     },
     "metadata": {
      "needs_background": "light"
     },
     "output_type": "display_data"
    }
   ],
   "source": [
    "# ecdf plot\n",
    "ecdf = df['price'].value_counts().sort_index().cumsum() / len(df['price'])\n",
    "plt.plot(ecdf.index, ecdf, marker='.', linestyle='none')\n",
    "plt.grid()"
   ]
  },
  {
   "cell_type": "code",
   "execution_count": 175,
   "id": "48b52bfb",
   "metadata": {},
   "outputs": [
    {
     "data": {
      "image/png": "[encoded data removed]",
      "text/plain": [
       "<Figure size 1080x432 with 2 Axes>"
      ]
     },
     "metadata": {
      "needs_background": "light"
     },
     "output_type": "display_data"
    }
   ],
   "source": [
    "plt.figure(figsize=(15, 6))\n",
    "\n",
    "# Distribution plot without log transformation\n",
    "plt.subplot(1, 2, 1)\n",
    "sns.histplot(df['price'], kde=True, bins=50, color='skyblue')\n",
    "plt.title('Distribution of Prices (Original)')\n",
    "plt.xlabel('Price (in Crores)')\n",
    "plt.ylabel('Frequency')\n",
    "\n",
    "# Distribution plot with log transformation\n",
    "plt.subplot(1, 2, 2)\n",
    "sns.histplot(np.log1p(df['price']), kde=True, bins=50, color='lightgreen')\n",
    "plt.title('Distribution of Prices (Log Transformed)')\n",
    "plt.xlabel('Log(Price)')\n",
    "plt.ylabel('Frequency')\n",
    "\n",
    "plt.tight_layout()\n",
    "plt.show()"
   ]
  },
  {
   "cell_type": "markdown",
   "id": "1c7e7e35",
   "metadata": {},
   "source": [
    "np.log1p(x): This function computes the natural logarithm of 1+x. \n",
    "It's designed to provide more accurate results for values of x that are very close to zero.\n",
    "\n",
    "Using np.log1p helps in transforming the price column while ensuring that any value (including zero, if present) is handled appropriately. When we need to reverse the transformation, we can use np.expm1 which computes e^x-1"
   ]
  },
  {
   "cell_type": "code",
   "execution_count": 104,
   "id": "7ef29268",
   "metadata": {},
   "outputs": [
    {
     "name": "stdout",
     "output_type": "stream",
     "text": [
      "1.0740709565255315 0.9646692415449296\n"
     ]
    }
   ],
   "source": [
    "skewness = np.log1p(df['price']).skew()\n",
    "kurtosis = np.log1p(df['price']).kurt()\n",
    "\n",
    "print(skewness,kurtosis)"
   ]
  },
  {
   "cell_type": "code",
   "execution_count": 106,
   "id": "a48210af",
   "metadata": {},
   "outputs": [
    {
     "name": "stderr",
     "output_type": "stream",
     "text": [
      "C:\\Users\\Nitish\\anaconda3\\lib\\site-packages\\seaborn\\_decorators.py:36: FutureWarning: Pass the following variable as a keyword arg: x. From version 0.12, the only valid positional argument will be `data`, and passing other arguments without an explicit keyword will result in an error or misinterpretation.\n",
      "  warnings.warn(\n",
      "C:\\Users\\Nitish\\anaconda3\\lib\\site-packages\\seaborn\\_decorators.py:36: FutureWarning: Pass the following variable as a keyword arg: x. From version 0.12, the only valid positional argument will be `data`, and passing other arguments without an explicit keyword will result in an error or misinterpretation.\n",
      "  warnings.warn(\n"
     ]
    },
    {
     "data": {
      "image/png": "[encoded data removed]",
      "text/plain": [
       "<Figure size 1080x432 with 2 Axes>"
      ]
     },
     "metadata": {
      "needs_background": "light"
     },
     "output_type": "display_data"
    }
   ],
   "source": [
    "plt.figure(figsize=(15, 6))\n",
    "\n",
    "# Distribution plot without log transformation\n",
    "plt.subplot(1, 2, 1)\n",
    "sns.boxplot(df['price'], color='skyblue')\n",
    "plt.title('Distribution of Prices (Original)')\n",
    "plt.xlabel('Price (in Crores)')\n",
    "plt.ylabel('Frequency')\n",
    "\n",
    "# Distribution plot with log transformation\n",
    "plt.subplot(1, 2, 2)\n",
    "sns.boxplot(np.log1p(df['price']), color='lightgreen')\n",
    "plt.title('Distribution of Prices (Log Transformed)')\n",
    "plt.xlabel('Log(Price)')\n",
    "plt.ylabel('Frequency')\n",
    "\n",
    "plt.tight_layout()\n",
    "plt.show()"
   ]
  },
  {
   "cell_type": "markdown",
   "id": "79b6e90d",
   "metadata": {},
   "source": [
    "### price_per_sqft"
   ]
  },
  {
   "cell_type": "code",
   "execution_count": 112,
   "id": "61815722",
   "metadata": {},
   "outputs": [
    {
     "data": {
      "text/plain": [
       "17"
      ]
     },
     "execution_count": 112,
     "metadata": {},
     "output_type": "execute_result"
    }
   ],
   "source": [
    "df['price_per_sqft'].isnull().sum()"
   ]
  },
  {
   "cell_type": "code",
   "execution_count": 113,
   "id": "4a673f44",
   "metadata": {},
   "outputs": [
    {
     "data": {
      "text/plain": [
       "count      3660.000000\n",
       "mean      13892.668306\n",
       "std       23210.067190\n",
       "min           4.000000\n",
       "25%        6817.250000\n",
       "50%        9020.000000\n",
       "75%       13880.500000\n",
       "max      600000.000000\n",
       "Name: price_per_sqft, dtype: float64"
      ]
     },
     "execution_count": 113,
     "metadata": {},
     "output_type": "execute_result"
    }
   ],
   "source": [
    "df['price_per_sqft'].describe()"
   ]
  },
  {
   "cell_type": "code",
   "execution_count": 109,
   "id": "11494fb9",
   "metadata": {},
   "outputs": [
    {
     "data": {
      "text/plain": [
       "<AxesSubplot:xlabel='price_per_sqft', ylabel='Count'>"
      ]
     },
     "execution_count": 109,
     "metadata": {},
     "output_type": "execute_result"
    },
    {
     "data": {
      "image/png": "[encoded data removed]",
      "text/plain": [
       "<Figure size 432x288 with 1 Axes>"
      ]
     },
     "metadata": {
      "needs_background": "light"
     },
     "output_type": "display_data"
    }
   ],
   "source": [
    "sns.histplot(df['price_per_sqft'], bins=50, color='skyblue', kde=True)"
   ]
  },
  {
   "cell_type": "markdown",
   "id": "097b73bf",
   "metadata": {},
   "source": [
    "Most properties have a price_per_sqft ranging between approximately ₹0 and ₹40,000. There is a significant concentration in the lower range, with a few properties having exceptionally high price_per_sqft."
   ]
  },
  {
   "cell_type": "code",
   "execution_count": 110,
   "id": "3bcc4766",
   "metadata": {},
   "outputs": [
    {
     "name": "stderr",
     "output_type": "stream",
     "text": [
      "C:\\Users\\Nitish\\anaconda3\\lib\\site-packages\\seaborn\\_decorators.py:36: FutureWarning: Pass the following variable as a keyword arg: x. From version 0.12, the only valid positional argument will be `data`, and passing other arguments without an explicit keyword will result in an error or misinterpretation.\n",
      "  warnings.warn(\n"
     ]
    },
    {
     "data": {
      "text/plain": [
       "<AxesSubplot:xlabel='price_per_sqft'>"
      ]
     },
     "execution_count": 110,
     "metadata": {},
     "output_type": "execute_result"
    },
    {
     "data": {
      "image/png": "[encoded data removed]",
      "text/plain": [
       "<Figure size 432x288 with 1 Axes>"
      ]
     },
     "metadata": {
      "needs_background": "light"
     },
     "output_type": "display_data"
    }
   ],
   "source": [
    "sns.boxplot(df['price_per_sqft'], color='lightgreen')"
   ]
  },
  {
   "cell_type": "markdown",
   "id": "3b9027fd",
   "metadata": {},
   "source": [
    "The box plot clearly shows several outliers, especially on the higher side. The interquartile range (IQR) is relatively compact, but there are many data points beyond the \"whiskers\" of the box plot, indicating potential outliers"
   ]
  },
  {
   "cell_type": "markdown",
   "id": "d1fa1ba5",
   "metadata": {},
   "source": [
    "#### Observations\n",
    "\n",
    "- Potential Outliers\n",
    "- Right Skewed\n",
    "- 17 missing values"
   ]
  },
  {
   "cell_type": "markdown",
   "id": "d8455a2d",
   "metadata": {},
   "source": [
    "### bedRoom"
   ]
  },
  {
   "cell_type": "code",
   "execution_count": 115,
   "id": "d8ad1fec",
   "metadata": {},
   "outputs": [
    {
     "data": {
      "text/plain": [
       "0"
      ]
     },
     "execution_count": 115,
     "metadata": {},
     "output_type": "execute_result"
    }
   ],
   "source": [
    "df['bedRoom'].isnull().sum()"
   ]
  },
  {
   "cell_type": "code",
   "execution_count": 117,
   "id": "9350d57b",
   "metadata": {},
   "outputs": [
    {
     "data": {
      "text/plain": [
       "<AxesSubplot:>"
      ]
     },
     "execution_count": 117,
     "metadata": {},
     "output_type": "execute_result"
    },
    {
     "data": {
      "image/png": "[encoded data removed]",
      "text/plain": [
       "<Figure size 432x288 with 1 Axes>"
      ]
     },
     "metadata": {
      "needs_background": "light"
     },
     "output_type": "display_data"
    }
   ],
   "source": [
    "df['bedRoom'].value_counts().sort_index().plot(kind='bar')"
   ]
  },
  {
   "cell_type": "code",
   "execution_count": 121,
   "id": "79d4ab41",
   "metadata": {},
   "outputs": [
    {
     "name": "stderr",
     "output_type": "stream",
     "text": [
      "C:\\Users\\Nitish\\anaconda3\\lib\\site-packages\\pandas\\plotting\\_matplotlib\\core.py:1616: MatplotlibDeprecationWarning: normalize=None does not normalize if the sum is less than 1 but this behavior is deprecated since 3.3 until two minor releases later. After the deprecation period the default value will be normalize=True. To prevent normalization pass normalize=False \n",
      "  results = ax.pie(y, labels=blabels, **kwds)\n"
     ]
    },
    {
     "data": {
      "text/plain": [
       "<AxesSubplot:ylabel='bedRoom'>"
      ]
     },
     "execution_count": 121,
     "metadata": {},
     "output_type": "execute_result"
    },
    {
     "data": {
      "image/png": "[encoded data removed]",
      "text/plain": [
       "<Figure size 432x288 with 1 Axes>"
      ]
     },
     "metadata": {},
     "output_type": "display_data"
    }
   ],
   "source": [
    "df['bedRoom'].value_counts(normalize=True).head().plot(kind='pie',autopct='%0.2f%%')"
   ]
  },
  {
   "cell_type": "markdown",
   "id": "37feac0c",
   "metadata": {},
   "source": [
    "### bathroom"
   ]
  },
  {
   "cell_type": "code",
   "execution_count": 123,
   "id": "fb928658",
   "metadata": {},
   "outputs": [
    {
     "data": {
      "text/plain": [
       "0"
      ]
     },
     "execution_count": 123,
     "metadata": {},
     "output_type": "execute_result"
    }
   ],
   "source": [
    "df['bathroom'].isnull().sum()"
   ]
  },
  {
   "cell_type": "code",
   "execution_count": 124,
   "id": "8bef3d48",
   "metadata": {},
   "outputs": [
    {
     "data": {
      "text/plain": [
       "<AxesSubplot:>"
      ]
     },
     "execution_count": 124,
     "metadata": {},
     "output_type": "execute_result"
    },
    {
     "data": {
      "image/png": "[encoded data removed]",
      "text/plain": [
       "<Figure size 432x288 with 1 Axes>"
      ]
     },
     "metadata": {
      "needs_background": "light"
     },
     "output_type": "display_data"
    }
   ],
   "source": [
    "df['bathroom'].value_counts().sort_index().plot(kind='bar')"
   ]
  },
  {
   "cell_type": "code",
   "execution_count": 125,
   "id": "b8a28001",
   "metadata": {},
   "outputs": [
    {
     "name": "stderr",
     "output_type": "stream",
     "text": [
      "C:\\Users\\Nitish\\anaconda3\\lib\\site-packages\\pandas\\plotting\\_matplotlib\\core.py:1616: MatplotlibDeprecationWarning: normalize=None does not normalize if the sum is less than 1 but this behavior is deprecated since 3.3 until two minor releases later. After the deprecation period the default value will be normalize=True. To prevent normalization pass normalize=False \n",
      "  results = ax.pie(y, labels=blabels, **kwds)\n"
     ]
    },
    {
     "data": {
      "text/plain": [
       "<AxesSubplot:ylabel='bathroom'>"
      ]
     },
     "execution_count": 125,
     "metadata": {},
     "output_type": "execute_result"
    },
    {
     "data": {
      "image/png": "[encoded data removed]",
      "text/plain": [
       "<Figure size 432x288 with 1 Axes>"
      ]
     },
     "metadata": {},
     "output_type": "display_data"
    }
   ],
   "source": [
    "df['bathroom'].value_counts(normalize=True).head().plot(kind='pie',autopct='%0.2f%%')"
   ]
  },
  {
   "cell_type": "code",
   "execution_count": 126,
   "id": "cb0a1a1e",
   "metadata": {},
   "outputs": [
    {
     "data": {
      "text/html": [
       "<div>\n",
       "<style scoped>\n",
       "    .dataframe tbody tr th:only-of-type {\n",
       "        vertical-align: middle;\n",
       "    }\n",
       "\n",
       "    .dataframe tbody tr th {\n",
       "        vertical-align: top;\n",
       "    }\n",
       "\n",
       "    .dataframe thead th {\n",
       "        text-align: right;\n",
       "    }\n",
       "</style>\n",
       "<table border=\"1\" class=\"dataframe\">\n",
       "  <thead>\n",
       "    <tr style=\"text-align: right;\">\n",
       "      <th></th>\n",
       "      <th>property_type</th>\n",
       "      <th>society</th>\n",
       "      <th>sector</th>\n",
       "      <th>price</th>\n",
       "      <th>price_per_sqft</th>\n",
       "      <th>area</th>\n",
       "      <th>areaWithType</th>\n",
       "      <th>bedRoom</th>\n",
       "      <th>bathroom</th>\n",
       "      <th>balcony</th>\n",
       "      <th>...</th>\n",
       "      <th>super_built_up_area</th>\n",
       "      <th>built_up_area</th>\n",
       "      <th>carpet_area</th>\n",
       "      <th>study room</th>\n",
       "      <th>servant room</th>\n",
       "      <th>store room</th>\n",
       "      <th>pooja room</th>\n",
       "      <th>others</th>\n",
       "      <th>furnishing_type</th>\n",
       "      <th>luxury_score</th>\n",
       "    </tr>\n",
       "  </thead>\n",
       "  <tbody>\n",
       "    <tr>\n",
       "      <th>0</th>\n",
       "      <td>flat</td>\n",
       "      <td>signature global park 4</td>\n",
       "      <td>sector 36</td>\n",
       "      <td>0.82</td>\n",
       "      <td>7585.0</td>\n",
       "      <td>1081.0</td>\n",
       "      <td>Super Built up area 1081(100.43 sq.m.)Carpet a...</td>\n",
       "      <td>3</td>\n",
       "      <td>2</td>\n",
       "      <td>2</td>\n",
       "      <td>...</td>\n",
       "      <td>1081.0</td>\n",
       "      <td>NaN</td>\n",
       "      <td>650.0</td>\n",
       "      <td>0</td>\n",
       "      <td>0</td>\n",
       "      <td>0</td>\n",
       "      <td>0</td>\n",
       "      <td>0</td>\n",
       "      <td>0</td>\n",
       "      <td>8</td>\n",
       "    </tr>\n",
       "    <tr>\n",
       "      <th>1</th>\n",
       "      <td>flat</td>\n",
       "      <td>smart world gems</td>\n",
       "      <td>sector 89</td>\n",
       "      <td>0.95</td>\n",
       "      <td>8600.0</td>\n",
       "      <td>1105.0</td>\n",
       "      <td>Carpet area: 1103 (102.47 sq.m.)</td>\n",
       "      <td>2</td>\n",
       "      <td>2</td>\n",
       "      <td>2</td>\n",
       "      <td>...</td>\n",
       "      <td>NaN</td>\n",
       "      <td>NaN</td>\n",
       "      <td>1103.0</td>\n",
       "      <td>1</td>\n",
       "      <td>1</td>\n",
       "      <td>0</td>\n",
       "      <td>0</td>\n",
       "      <td>0</td>\n",
       "      <td>0</td>\n",
       "      <td>38</td>\n",
       "    </tr>\n",
       "    <tr>\n",
       "      <th>2</th>\n",
       "      <td>flat</td>\n",
       "      <td>pyramid elite</td>\n",
       "      <td>sector 86</td>\n",
       "      <td>0.46</td>\n",
       "      <td>79.0</td>\n",
       "      <td>58228.0</td>\n",
       "      <td>Carpet area: 58141 (5401.48 sq.m.)</td>\n",
       "      <td>2</td>\n",
       "      <td>2</td>\n",
       "      <td>1</td>\n",
       "      <td>...</td>\n",
       "      <td>NaN</td>\n",
       "      <td>NaN</td>\n",
       "      <td>58141.0</td>\n",
       "      <td>0</td>\n",
       "      <td>0</td>\n",
       "      <td>0</td>\n",
       "      <td>0</td>\n",
       "      <td>0</td>\n",
       "      <td>0</td>\n",
       "      <td>15</td>\n",
       "    </tr>\n",
       "    <tr>\n",
       "      <th>3</th>\n",
       "      <td>flat</td>\n",
       "      <td>breez global hill view</td>\n",
       "      <td>sohna road</td>\n",
       "      <td>0.32</td>\n",
       "      <td>5470.0</td>\n",
       "      <td>585.0</td>\n",
       "      <td>Built Up area: 1000 (92.9 sq.m.)Carpet area: 5...</td>\n",
       "      <td>2</td>\n",
       "      <td>2</td>\n",
       "      <td>1</td>\n",
       "      <td>...</td>\n",
       "      <td>NaN</td>\n",
       "      <td>1000.0</td>\n",
       "      <td>585.0</td>\n",
       "      <td>0</td>\n",
       "      <td>0</td>\n",
       "      <td>0</td>\n",
       "      <td>0</td>\n",
       "      <td>0</td>\n",
       "      <td>0</td>\n",
       "      <td>49</td>\n",
       "    </tr>\n",
       "    <tr>\n",
       "      <th>4</th>\n",
       "      <td>flat</td>\n",
       "      <td>bestech park view sanskruti</td>\n",
       "      <td>sector 92</td>\n",
       "      <td>1.60</td>\n",
       "      <td>8020.0</td>\n",
       "      <td>1995.0</td>\n",
       "      <td>Super Built up area 1995(185.34 sq.m.)Built Up...</td>\n",
       "      <td>3</td>\n",
       "      <td>4</td>\n",
       "      <td>3+</td>\n",
       "      <td>...</td>\n",
       "      <td>1995.0</td>\n",
       "      <td>1615.0</td>\n",
       "      <td>1476.0</td>\n",
       "      <td>0</td>\n",
       "      <td>1</td>\n",
       "      <td>0</td>\n",
       "      <td>0</td>\n",
       "      <td>1</td>\n",
       "      <td>1</td>\n",
       "      <td>174</td>\n",
       "    </tr>\n",
       "  </tbody>\n",
       "</table>\n",
       "<p>5 rows × 23 columns</p>\n",
       "</div>"
      ],
      "text/plain": [
       "  property_type                      society      sector  price  \\\n",
       "0          flat      signature global park 4   sector 36   0.82   \n",
       "1          flat             smart world gems   sector 89   0.95   \n",
       "2          flat                pyramid elite   sector 86   0.46   \n",
       "3          flat       breez global hill view  sohna road   0.32   \n",
       "4          flat  bestech park view sanskruti   sector 92   1.60   \n",
       "\n",
       "   price_per_sqft     area                                       areaWithType  \\\n",
       "0          7585.0   1081.0  Super Built up area 1081(100.43 sq.m.)Carpet a...   \n",
       "1          8600.0   1105.0                   Carpet area: 1103 (102.47 sq.m.)   \n",
       "2            79.0  58228.0                 Carpet area: 58141 (5401.48 sq.m.)   \n",
       "3          5470.0    585.0  Built Up area: 1000 (92.9 sq.m.)Carpet area: 5...   \n",
       "4          8020.0   1995.0  Super Built up area 1995(185.34 sq.m.)Built Up...   \n",
       "\n",
       "   bedRoom  bathroom balcony  ...  super_built_up_area built_up_area  \\\n",
       "0        3         2       2  ...               1081.0           NaN   \n",
       "1        2         2       2  ...                  NaN           NaN   \n",
       "2        2         2       1  ...                  NaN           NaN   \n",
       "3        2         2       1  ...                  NaN        1000.0   \n",
       "4        3         4      3+  ...               1995.0        1615.0   \n",
       "\n",
       "  carpet_area  study room  servant room  store room  pooja room  others  \\\n",
       "0       650.0           0             0           0           0       0   \n",
       "1      1103.0           1             1           0           0       0   \n",
       "2     58141.0           0             0           0           0       0   \n",
       "3       585.0           0             0           0           0       0   \n",
       "4      1476.0           0             1           0           0       1   \n",
       "\n",
       "   furnishing_type  luxury_score  \n",
       "0                0             8  \n",
       "1                0            38  \n",
       "2                0            15  \n",
       "3                0            49  \n",
       "4                1           174  \n",
       "\n",
       "[5 rows x 23 columns]"
      ]
     },
     "execution_count": 126,
     "metadata": {},
     "output_type": "execute_result"
    }
   ],
   "source": [
    "df.head()"
   ]
  },
  {
   "cell_type": "markdown",
   "id": "67be5832",
   "metadata": {},
   "source": [
    "### balcony"
   ]
  },
  {
   "cell_type": "code",
   "execution_count": 127,
   "id": "99081980",
   "metadata": {},
   "outputs": [
    {
     "data": {
      "text/plain": [
       "0"
      ]
     },
     "execution_count": 127,
     "metadata": {},
     "output_type": "execute_result"
    }
   ],
   "source": [
    "df['balcony'].isnull().sum()"
   ]
  },
  {
   "cell_type": "code",
   "execution_count": 129,
   "id": "a694fbee",
   "metadata": {},
   "outputs": [
    {
     "data": {
      "text/plain": [
       "<AxesSubplot:>"
      ]
     },
     "execution_count": 129,
     "metadata": {},
     "output_type": "execute_result"
    },
    {
     "data": {
      "image/png": "[encoded data removed]",
      "text/plain": [
       "<Figure size 432x288 with 1 Axes>"
      ]
     },
     "metadata": {
      "needs_background": "light"
     },
     "output_type": "display_data"
    }
   ],
   "source": [
    "df['balcony'].value_counts().plot(kind='bar')"
   ]
  },
  {
   "cell_type": "code",
   "execution_count": 130,
   "id": "91ee6d81",
   "metadata": {},
   "outputs": [
    {
     "data": {
      "text/plain": [
       "<AxesSubplot:ylabel='balcony'>"
      ]
     },
     "execution_count": 130,
     "metadata": {},
     "output_type": "execute_result"
    },
    {
     "data": {
      "image/png": "[encoded data removed]",
      "text/plain": [
       "<Figure size 432x288 with 1 Axes>"
      ]
     },
     "metadata": {},
     "output_type": "display_data"
    }
   ],
   "source": [
    "df['balcony'].value_counts(normalize=True).head().plot(kind='pie',autopct='%0.2f%%')"
   ]
  },
  {
   "cell_type": "code",
   "execution_count": 138,
   "id": "6230d50a",
   "metadata": {},
   "outputs": [],
   "source": [
    "### floorNum"
   ]
  },
  {
   "cell_type": "code",
   "execution_count": 178,
   "id": "0750294d",
   "metadata": {},
   "outputs": [
    {
     "data": {
      "text/html": [
       "<div>\n",
       "<style scoped>\n",
       "    .dataframe tbody tr th:only-of-type {\n",
       "        vertical-align: middle;\n",
       "    }\n",
       "\n",
       "    .dataframe tbody tr th {\n",
       "        vertical-align: top;\n",
       "    }\n",
       "\n",
       "    .dataframe thead th {\n",
       "        text-align: right;\n",
       "    }\n",
       "</style>\n",
       "<table border=\"1\" class=\"dataframe\">\n",
       "  <thead>\n",
       "    <tr style=\"text-align: right;\">\n",
       "      <th></th>\n",
       "      <th>floorNum</th>\n",
       "      <th>facing</th>\n",
       "      <th>agePossession</th>\n",
       "      <th>super_built_up_area</th>\n",
       "      <th>built_up_area</th>\n",
       "      <th>carpet_area</th>\n",
       "      <th>study room</th>\n",
       "      <th>servant room</th>\n",
       "      <th>store room</th>\n",
       "      <th>pooja room</th>\n",
       "      <th>others</th>\n",
       "      <th>furnishing_type</th>\n",
       "      <th>luxury_score</th>\n",
       "    </tr>\n",
       "  </thead>\n",
       "  <tbody>\n",
       "    <tr>\n",
       "      <th>0</th>\n",
       "      <td>2.0</td>\n",
       "      <td>NA</td>\n",
       "      <td>New Property</td>\n",
       "      <td>1081.0</td>\n",
       "      <td>NaN</td>\n",
       "      <td>650.0</td>\n",
       "      <td>0</td>\n",
       "      <td>0</td>\n",
       "      <td>0</td>\n",
       "      <td>0</td>\n",
       "      <td>0</td>\n",
       "      <td>0</td>\n",
       "      <td>8</td>\n",
       "    </tr>\n",
       "    <tr>\n",
       "      <th>1</th>\n",
       "      <td>4.0</td>\n",
       "      <td>NA</td>\n",
       "      <td>New Property</td>\n",
       "      <td>NaN</td>\n",
       "      <td>NaN</td>\n",
       "      <td>1103.0</td>\n",
       "      <td>1</td>\n",
       "      <td>1</td>\n",
       "      <td>0</td>\n",
       "      <td>0</td>\n",
       "      <td>0</td>\n",
       "      <td>0</td>\n",
       "      <td>38</td>\n",
       "    </tr>\n",
       "    <tr>\n",
       "      <th>2</th>\n",
       "      <td>0.0</td>\n",
       "      <td>NA</td>\n",
       "      <td>Under Construction</td>\n",
       "      <td>NaN</td>\n",
       "      <td>NaN</td>\n",
       "      <td>58141.0</td>\n",
       "      <td>0</td>\n",
       "      <td>0</td>\n",
       "      <td>0</td>\n",
       "      <td>0</td>\n",
       "      <td>0</td>\n",
       "      <td>0</td>\n",
       "      <td>15</td>\n",
       "    </tr>\n",
       "    <tr>\n",
       "      <th>3</th>\n",
       "      <td>17.0</td>\n",
       "      <td>NA</td>\n",
       "      <td>New Property</td>\n",
       "      <td>NaN</td>\n",
       "      <td>1000.0</td>\n",
       "      <td>585.0</td>\n",
       "      <td>0</td>\n",
       "      <td>0</td>\n",
       "      <td>0</td>\n",
       "      <td>0</td>\n",
       "      <td>0</td>\n",
       "      <td>0</td>\n",
       "      <td>49</td>\n",
       "    </tr>\n",
       "    <tr>\n",
       "      <th>4</th>\n",
       "      <td>10.0</td>\n",
       "      <td>North-West</td>\n",
       "      <td>Relatively New</td>\n",
       "      <td>1995.0</td>\n",
       "      <td>1615.0</td>\n",
       "      <td>1476.0</td>\n",
       "      <td>0</td>\n",
       "      <td>1</td>\n",
       "      <td>0</td>\n",
       "      <td>0</td>\n",
       "      <td>1</td>\n",
       "      <td>1</td>\n",
       "      <td>174</td>\n",
       "    </tr>\n",
       "  </tbody>\n",
       "</table>\n",
       "</div>"
      ],
      "text/plain": [
       "   floorNum      facing       agePossession  super_built_up_area  \\\n",
       "0       2.0          NA        New Property               1081.0   \n",
       "1       4.0          NA        New Property                  NaN   \n",
       "2       0.0          NA  Under Construction                  NaN   \n",
       "3      17.0          NA        New Property                  NaN   \n",
       "4      10.0  North-West      Relatively New               1995.0   \n",
       "\n",
       "   built_up_area  carpet_area  study room  servant room  store room  \\\n",
       "0            NaN        650.0           0             0           0   \n",
       "1            NaN       1103.0           1             1           0   \n",
       "2            NaN      58141.0           0             0           0   \n",
       "3         1000.0        585.0           0             0           0   \n",
       "4         1615.0       1476.0           0             1           0   \n",
       "\n",
       "   pooja room  others  furnishing_type  luxury_score  \n",
       "0           0       0                0             8  \n",
       "1           0       0                0            38  \n",
       "2           0       0                0            15  \n",
       "3           0       0                0            49  \n",
       "4           0       1                1           174  "
      ]
     },
     "execution_count": 178,
     "metadata": {},
     "output_type": "execute_result"
    }
   ],
   "source": [
    "df.iloc[:,10:].head()"
   ]
  },
  {
   "cell_type": "code",
   "execution_count": 139,
   "id": "4935ccd5",
   "metadata": {},
   "outputs": [
    {
     "data": {
      "text/plain": [
       "19"
      ]
     },
     "execution_count": 139,
     "metadata": {},
     "output_type": "execute_result"
    }
   ],
   "source": [
    "df['floorNum'].isnull().sum()"
   ]
  },
  {
   "cell_type": "code",
   "execution_count": 140,
   "id": "754be8fc",
   "metadata": {},
   "outputs": [
    {
     "data": {
      "text/plain": [
       "count    3658.000000\n",
       "mean        6.798250\n",
       "std         6.012454\n",
       "min         0.000000\n",
       "25%         2.000000\n",
       "50%         5.000000\n",
       "75%        10.000000\n",
       "max        51.000000\n",
       "Name: floorNum, dtype: float64"
      ]
     },
     "execution_count": 140,
     "metadata": {},
     "output_type": "execute_result"
    }
   ],
   "source": [
    "df['floorNum'].describe()"
   ]
  },
  {
   "cell_type": "code",
   "execution_count": 141,
   "id": "53ee2641",
   "metadata": {},
   "outputs": [
    {
     "data": {
      "text/plain": [
       "<AxesSubplot:>"
      ]
     },
     "execution_count": 141,
     "metadata": {},
     "output_type": "execute_result"
    },
    {
     "data": {
      "image/png": "[encoded data removed]",
      "text/plain": [
       "<Figure size 432x288 with 1 Axes>"
      ]
     },
     "metadata": {
      "needs_background": "light"
     },
     "output_type": "display_data"
    }
   ],
   "source": [
    "df['floorNum'].value_counts().sort_index().plot(kind='bar')"
   ]
  },
  {
   "cell_type": "code",
   "execution_count": 142,
   "id": "d7b71b07",
   "metadata": {},
   "outputs": [
    {
     "name": "stderr",
     "output_type": "stream",
     "text": [
      "C:\\Users\\Nitish\\anaconda3\\lib\\site-packages\\seaborn\\_decorators.py:36: FutureWarning: Pass the following variable as a keyword arg: x. From version 0.12, the only valid positional argument will be `data`, and passing other arguments without an explicit keyword will result in an error or misinterpretation.\n",
      "  warnings.warn(\n"
     ]
    },
    {
     "data": {
      "text/plain": [
       "<AxesSubplot:xlabel='floorNum'>"
      ]
     },
     "execution_count": 142,
     "metadata": {},
     "output_type": "execute_result"
    },
    {
     "data": {
      "image/png": "[encoded data removed]",
      "text/plain": [
       "<Figure size 432x288 with 1 Axes>"
      ]
     },
     "metadata": {
      "needs_background": "light"
     },
     "output_type": "display_data"
    }
   ],
   "source": [
    "sns.boxplot(df['floorNum'], color='lightgreen')"
   ]
  },
  {
   "cell_type": "markdown",
   "id": "4267239b",
   "metadata": {},
   "source": [
    "- The majority of the properties lie between the ground floor (0) and the 25th floor.\n",
    "- Floors 1 to 4 are particularly common, with the 3rd floor being the most frequent.\n",
    "- There are a few properties located at higher floors, but their frequency is much lower.\n",
    "- The box plot reveals that the majority of the properties are concentrated around the lower floors. The interquartile range (IQR) lies between approximately the 2nd and 10th floors.\n",
    "- Data points beyond the \"whiskers\" of the box plot, especially on the higher side, indicate potential outliers."
   ]
  },
  {
   "cell_type": "markdown",
   "id": "1e823d7e",
   "metadata": {},
   "source": [
    "### facing"
   ]
  },
  {
   "cell_type": "code",
   "execution_count": 144,
   "id": "c51cb12e",
   "metadata": {},
   "outputs": [
    {
     "data": {
      "text/plain": [
       "1045"
      ]
     },
     "execution_count": 144,
     "metadata": {},
     "output_type": "execute_result"
    }
   ],
   "source": [
    "df['facing'].isnull().sum()"
   ]
  },
  {
   "cell_type": "code",
   "execution_count": 145,
   "id": "a5bbac41",
   "metadata": {},
   "outputs": [],
   "source": [
    "df['facing'].fillna('NA',inplace=True)"
   ]
  },
  {
   "cell_type": "code",
   "execution_count": 146,
   "id": "98aed58b",
   "metadata": {},
   "outputs": [
    {
     "data": {
      "text/plain": [
       "NA            1045\n",
       "North-East     623\n",
       "East           623\n",
       "North          387\n",
       "West           249\n",
       "South          231\n",
       "North-West     193\n",
       "South-East     173\n",
       "South-West     153\n",
       "Name: facing, dtype: int64"
      ]
     },
     "execution_count": 146,
     "metadata": {},
     "output_type": "execute_result"
    }
   ],
   "source": [
    "df['facing'].value_counts()"
   ]
  },
  {
   "cell_type": "markdown",
   "id": "3e2ba0a4",
   "metadata": {},
   "source": [
    "### agePossession"
   ]
  },
  {
   "cell_type": "code",
   "execution_count": 148,
   "id": "cbe070c9",
   "metadata": {},
   "outputs": [
    {
     "data": {
      "text/plain": [
       "0"
      ]
     },
     "execution_count": 148,
     "metadata": {},
     "output_type": "execute_result"
    }
   ],
   "source": [
    "df['agePossession'].isnull().sum()"
   ]
  },
  {
   "cell_type": "code",
   "execution_count": 149,
   "id": "fb180d39",
   "metadata": {},
   "outputs": [
    {
     "data": {
      "text/plain": [
       "Relatively New        1646\n",
       "New Property           593\n",
       "Moderately Old         563\n",
       "Undefined              306\n",
       "Old Property           303\n",
       "Under Construction     266\n",
       "Name: agePossession, dtype: int64"
      ]
     },
     "execution_count": 149,
     "metadata": {},
     "output_type": "execute_result"
    }
   ],
   "source": [
    "df['agePossession'].value_counts()"
   ]
  },
  {
   "cell_type": "markdown",
   "id": "ff6c5368",
   "metadata": {},
   "source": [
    "### areas"
   ]
  },
  {
   "cell_type": "code",
   "execution_count": 150,
   "id": "4147d7f5",
   "metadata": {},
   "outputs": [
    {
     "data": {
      "text/plain": [
       "1802"
      ]
     },
     "execution_count": 150,
     "metadata": {},
     "output_type": "execute_result"
    }
   ],
   "source": [
    "# super built up area\n",
    "df['super_built_up_area'].isnull().sum()"
   ]
  },
  {
   "cell_type": "code",
   "execution_count": 151,
   "id": "2d82347a",
   "metadata": {},
   "outputs": [
    {
     "data": {
      "text/plain": [
       "count     1875.000000\n",
       "mean      1925.237627\n",
       "std        764.172177\n",
       "min         89.000000\n",
       "25%       1479.500000\n",
       "50%       1828.000000\n",
       "75%       2215.000000\n",
       "max      10000.000000\n",
       "Name: super_built_up_area, dtype: float64"
      ]
     },
     "execution_count": 151,
     "metadata": {},
     "output_type": "execute_result"
    }
   ],
   "source": [
    "df['super_built_up_area'].describe()"
   ]
  },
  {
   "cell_type": "code",
   "execution_count": 153,
   "id": "8a98a800",
   "metadata": {},
   "outputs": [
    {
     "data": {
      "text/plain": [
       "<AxesSubplot:xlabel='super_built_up_area', ylabel='Count'>"
      ]
     },
     "execution_count": 153,
     "metadata": {},
     "output_type": "execute_result"
    },
    {
     "data": {
      "image/png": "[encoded data removed]",
      "text/plain": [
       "<Figure size 432x288 with 1 Axes>"
      ]
     },
     "metadata": {
      "needs_background": "light"
     },
     "output_type": "display_data"
    }
   ],
   "source": [
    "sns.histplot(df['super_built_up_area'].dropna(), bins=50, color='skyblue', kde=True)"
   ]
  },
  {
   "cell_type": "code",
   "execution_count": 154,
   "id": "c3ec9322",
   "metadata": {},
   "outputs": [
    {
     "name": "stderr",
     "output_type": "stream",
     "text": [
      "C:\\Users\\Nitish\\anaconda3\\lib\\site-packages\\seaborn\\_decorators.py:36: FutureWarning: Pass the following variable as a keyword arg: x. From version 0.12, the only valid positional argument will be `data`, and passing other arguments without an explicit keyword will result in an error or misinterpretation.\n",
      "  warnings.warn(\n"
     ]
    },
    {
     "data": {
      "text/plain": [
       "<AxesSubplot:xlabel='super_built_up_area'>"
      ]
     },
     "execution_count": 154,
     "metadata": {},
     "output_type": "execute_result"
    },
    {
     "data": {
      "image/png": "[encoded data removed]",
      "text/plain": [
       "<Figure size 432x288 with 1 Axes>"
      ]
     },
     "metadata": {
      "needs_background": "light"
     },
     "output_type": "display_data"
    }
   ],
   "source": [
    "sns.boxplot(df['super_built_up_area'].dropna(), color='lightgreen')"
   ]
  },
  {
   "cell_type": "markdown",
   "id": "e8fa985d",
   "metadata": {},
   "source": [
    "- Most properties have a super built-up area ranging between approximately 1,000 sq.ft and 2,500 sq.ft.\n",
    "- There are a few properties with a significantly larger area, leading to a right-skewed distribution.\n",
    "- The interquartile range (IQR) lies between roughly 1,480 sq.ft and 2,215 sq.ft, indicating that the middle 50% of the properties fall within this range.\n",
    "- There are several data points beyond the upper \"whisker\" of the box plot, indicating potential outliers. These are properties with an unusually large super built-up area."
   ]
  },
  {
   "cell_type": "code",
   "execution_count": 155,
   "id": "d1259daf",
   "metadata": {},
   "outputs": [
    {
     "data": {
      "text/plain": [
       "1987"
      ]
     },
     "execution_count": 155,
     "metadata": {},
     "output_type": "execute_result"
    }
   ],
   "source": [
    "# built up area\n",
    "df['built_up_area'].isnull().sum()"
   ]
  },
  {
   "cell_type": "code",
   "execution_count": 156,
   "id": "80e3c3f3",
   "metadata": {},
   "outputs": [
    {
     "data": {
      "text/plain": [
       "count      1690.000000\n",
       "mean       2379.585816\n",
       "std       17942.880237\n",
       "min           2.000000\n",
       "25%        1100.000000\n",
       "50%        1650.000000\n",
       "75%        2400.000000\n",
       "max      737147.000000\n",
       "Name: built_up_area, dtype: float64"
      ]
     },
     "execution_count": 156,
     "metadata": {},
     "output_type": "execute_result"
    }
   ],
   "source": [
    "df['built_up_area'].describe()"
   ]
  },
  {
   "cell_type": "code",
   "execution_count": 157,
   "id": "625c2d17",
   "metadata": {},
   "outputs": [
    {
     "data": {
      "text/plain": [
       "<AxesSubplot:xlabel='built_up_area', ylabel='Count'>"
      ]
     },
     "execution_count": 157,
     "metadata": {},
     "output_type": "execute_result"
    },
    {
     "data": {
      "image/png": "[encoded data removed]",
      "text/plain": [
       "<Figure size 432x288 with 1 Axes>"
      ]
     },
     "metadata": {
      "needs_background": "light"
     },
     "output_type": "display_data"
    }
   ],
   "source": [
    "sns.histplot(df['built_up_area'].dropna(), bins=50, color='skyblue', kde=False)"
   ]
  },
  {
   "cell_type": "code",
   "execution_count": 158,
   "id": "d97261e0",
   "metadata": {},
   "outputs": [
    {
     "name": "stderr",
     "output_type": "stream",
     "text": [
      "C:\\Users\\Nitish\\anaconda3\\lib\\site-packages\\seaborn\\_decorators.py:36: FutureWarning: Pass the following variable as a keyword arg: x. From version 0.12, the only valid positional argument will be `data`, and passing other arguments without an explicit keyword will result in an error or misinterpretation.\n",
      "  warnings.warn(\n"
     ]
    },
    {
     "data": {
      "text/plain": [
       "<AxesSubplot:xlabel='built_up_area'>"
      ]
     },
     "execution_count": 158,
     "metadata": {},
     "output_type": "execute_result"
    },
    {
     "data": {
      "image/png": "[encoded data removed]",
      "text/plain": [
       "<Figure size 432x288 with 1 Axes>"
      ]
     },
     "metadata": {
      "needs_background": "light"
     },
     "output_type": "display_data"
    }
   ],
   "source": [
    "sns.boxplot(df['built_up_area'].dropna(), color='lightgreen')"
   ]
  },
  {
   "cell_type": "markdown",
   "id": "02ef3001",
   "metadata": {},
   "source": [
    "- Most properties have a built-up area ranging roughly between 500 sq.ft and 3,500 sq.ft.\n",
    "- There are very few properties with a much larger built-up area, leading to a highly right-skewed distribution.\n",
    "- The box plot confirms the presence of significant outliers on the higher side. The data's interquartile range (IQR) is relatively compact, but the \"whiskers\" of the box plot are stretched due to the outliers.\n",
    "\n",
    "\n",
    "The presence of extreme values, especially on the higher side, suggests that there may be outliers or data errors. This could also be due to some properties being exceptionally large, like a commercial complex or an entire building being listed."
   ]
  },
  {
   "cell_type": "code",
   "execution_count": 159,
   "id": "b3e8bdc5",
   "metadata": {},
   "outputs": [
    {
     "data": {
      "text/plain": [
       "1805"
      ]
     },
     "execution_count": 159,
     "metadata": {},
     "output_type": "execute_result"
    }
   ],
   "source": [
    "# carpet area\n",
    "df['carpet_area'].isnull().sum()"
   ]
  },
  {
   "cell_type": "code",
   "execution_count": 160,
   "id": "fa9e67bf",
   "metadata": {},
   "outputs": [
    {
     "data": {
      "text/plain": [
       "count      1872.000000\n",
       "mean       2529.179507\n",
       "std       22799.836449\n",
       "min          15.000000\n",
       "25%         843.000000\n",
       "50%        1300.000000\n",
       "75%        1790.000000\n",
       "max      607936.000000\n",
       "Name: carpet_area, dtype: float64"
      ]
     },
     "execution_count": 160,
     "metadata": {},
     "output_type": "execute_result"
    }
   ],
   "source": [
    "df['carpet_area'].describe()"
   ]
  },
  {
   "cell_type": "code",
   "execution_count": 161,
   "id": "ba3f54f4",
   "metadata": {},
   "outputs": [
    {
     "data": {
      "text/plain": [
       "<AxesSubplot:xlabel='carpet_area', ylabel='Count'>"
      ]
     },
     "execution_count": 161,
     "metadata": {},
     "output_type": "execute_result"
    },
    {
     "data": {
      "image/png": "[encoded data removed]",
      "text/plain": [
       "<Figure size 432x288 with 1 Axes>"
      ]
     },
     "metadata": {
      "needs_background": "light"
     },
     "output_type": "display_data"
    }
   ],
   "source": [
    "sns.histplot(df['carpet_area'].dropna(), bins=50, color='skyblue', kde=False)"
   ]
  },
  {
   "cell_type": "code",
   "execution_count": 162,
   "id": "52a48184",
   "metadata": {},
   "outputs": [
    {
     "name": "stderr",
     "output_type": "stream",
     "text": [
      "C:\\Users\\Nitish\\anaconda3\\lib\\site-packages\\seaborn\\_decorators.py:36: FutureWarning: Pass the following variable as a keyword arg: x. From version 0.12, the only valid positional argument will be `data`, and passing other arguments without an explicit keyword will result in an error or misinterpretation.\n",
      "  warnings.warn(\n"
     ]
    },
    {
     "data": {
      "text/plain": [
       "<AxesSubplot:xlabel='carpet_area'>"
      ]
     },
     "execution_count": 162,
     "metadata": {},
     "output_type": "execute_result"
    },
    {
     "data": {
      "image/png": "[encoded data removed]",
      "text/plain": [
       "<Figure size 432x288 with 1 Axes>"
      ]
     },
     "metadata": {
      "needs_background": "light"
     },
     "output_type": "display_data"
    }
   ],
   "source": [
    "sns.boxplot(df['carpet_area'].dropna(), color='lightgreen')"
   ]
  },
  {
   "cell_type": "code",
   "execution_count": 164,
   "id": "62b73abe",
   "metadata": {},
   "outputs": [
    {
     "data": {
      "text/html": [
       "<div>\n",
       "<style scoped>\n",
       "    .dataframe tbody tr th:only-of-type {\n",
       "        vertical-align: middle;\n",
       "    }\n",
       "\n",
       "    .dataframe tbody tr th {\n",
       "        vertical-align: top;\n",
       "    }\n",
       "\n",
       "    .dataframe thead th {\n",
       "        text-align: right;\n",
       "    }\n",
       "</style>\n",
       "<table border=\"1\" class=\"dataframe\">\n",
       "  <thead>\n",
       "    <tr style=\"text-align: right;\">\n",
       "      <th></th>\n",
       "      <th>study room</th>\n",
       "      <th>servant room</th>\n",
       "      <th>store room</th>\n",
       "      <th>pooja room</th>\n",
       "      <th>others</th>\n",
       "      <th>furnishing_type</th>\n",
       "      <th>luxury_score</th>\n",
       "    </tr>\n",
       "  </thead>\n",
       "  <tbody>\n",
       "    <tr>\n",
       "      <th>0</th>\n",
       "      <td>0</td>\n",
       "      <td>0</td>\n",
       "      <td>0</td>\n",
       "      <td>0</td>\n",
       "      <td>0</td>\n",
       "      <td>0</td>\n",
       "      <td>8</td>\n",
       "    </tr>\n",
       "    <tr>\n",
       "      <th>1</th>\n",
       "      <td>1</td>\n",
       "      <td>1</td>\n",
       "      <td>0</td>\n",
       "      <td>0</td>\n",
       "      <td>0</td>\n",
       "      <td>0</td>\n",
       "      <td>38</td>\n",
       "    </tr>\n",
       "    <tr>\n",
       "      <th>2</th>\n",
       "      <td>0</td>\n",
       "      <td>0</td>\n",
       "      <td>0</td>\n",
       "      <td>0</td>\n",
       "      <td>0</td>\n",
       "      <td>0</td>\n",
       "      <td>15</td>\n",
       "    </tr>\n",
       "    <tr>\n",
       "      <th>3</th>\n",
       "      <td>0</td>\n",
       "      <td>0</td>\n",
       "      <td>0</td>\n",
       "      <td>0</td>\n",
       "      <td>0</td>\n",
       "      <td>0</td>\n",
       "      <td>49</td>\n",
       "    </tr>\n",
       "    <tr>\n",
       "      <th>4</th>\n",
       "      <td>0</td>\n",
       "      <td>1</td>\n",
       "      <td>0</td>\n",
       "      <td>0</td>\n",
       "      <td>1</td>\n",
       "      <td>1</td>\n",
       "      <td>174</td>\n",
       "    </tr>\n",
       "    <tr>\n",
       "      <th>...</th>\n",
       "      <td>...</td>\n",
       "      <td>...</td>\n",
       "      <td>...</td>\n",
       "      <td>...</td>\n",
       "      <td>...</td>\n",
       "      <td>...</td>\n",
       "      <td>...</td>\n",
       "    </tr>\n",
       "    <tr>\n",
       "      <th>3798</th>\n",
       "      <td>0</td>\n",
       "      <td>0</td>\n",
       "      <td>0</td>\n",
       "      <td>0</td>\n",
       "      <td>0</td>\n",
       "      <td>0</td>\n",
       "      <td>73</td>\n",
       "    </tr>\n",
       "    <tr>\n",
       "      <th>3799</th>\n",
       "      <td>1</td>\n",
       "      <td>1</td>\n",
       "      <td>1</td>\n",
       "      <td>1</td>\n",
       "      <td>0</td>\n",
       "      <td>0</td>\n",
       "      <td>160</td>\n",
       "    </tr>\n",
       "    <tr>\n",
       "      <th>3800</th>\n",
       "      <td>0</td>\n",
       "      <td>0</td>\n",
       "      <td>0</td>\n",
       "      <td>0</td>\n",
       "      <td>0</td>\n",
       "      <td>1</td>\n",
       "      <td>67</td>\n",
       "    </tr>\n",
       "    <tr>\n",
       "      <th>3801</th>\n",
       "      <td>1</td>\n",
       "      <td>1</td>\n",
       "      <td>1</td>\n",
       "      <td>1</td>\n",
       "      <td>0</td>\n",
       "      <td>0</td>\n",
       "      <td>76</td>\n",
       "    </tr>\n",
       "    <tr>\n",
       "      <th>3802</th>\n",
       "      <td>0</td>\n",
       "      <td>0</td>\n",
       "      <td>0</td>\n",
       "      <td>0</td>\n",
       "      <td>0</td>\n",
       "      <td>1</td>\n",
       "      <td>126</td>\n",
       "    </tr>\n",
       "  </tbody>\n",
       "</table>\n",
       "<p>3677 rows × 7 columns</p>\n",
       "</div>"
      ],
      "text/plain": [
       "      study room  servant room  store room  pooja room  others  \\\n",
       "0              0             0           0           0       0   \n",
       "1              1             1           0           0       0   \n",
       "2              0             0           0           0       0   \n",
       "3              0             0           0           0       0   \n",
       "4              0             1           0           0       1   \n",
       "...          ...           ...         ...         ...     ...   \n",
       "3798           0             0           0           0       0   \n",
       "3799           1             1           1           1       0   \n",
       "3800           0             0           0           0       0   \n",
       "3801           1             1           1           1       0   \n",
       "3802           0             0           0           0       0   \n",
       "\n",
       "      furnishing_type  luxury_score  \n",
       "0                   0             8  \n",
       "1                   0            38  \n",
       "2                   0            15  \n",
       "3                   0            49  \n",
       "4                   1           174  \n",
       "...               ...           ...  \n",
       "3798                0            73  \n",
       "3799                0           160  \n",
       "3800                1            67  \n",
       "3801                0            76  \n",
       "3802                1           126  \n",
       "\n",
       "[3677 rows x 7 columns]"
      ]
     },
     "execution_count": 164,
     "metadata": {},
     "output_type": "execute_result"
    }
   ],
   "source": [
    "df.iloc[:,16:]"
   ]
  },
  {
   "cell_type": "markdown",
   "id": "e9c5a831",
   "metadata": {},
   "source": [
    "### additional rooms"
   ]
  },
  {
   "cell_type": "code",
   "execution_count": 167,
   "id": "a4b9a9de",
   "metadata": {},
   "outputs": [
    {
     "data": {
      "image/png": "[encoded data removed]",
      "text/plain": [
       "<Figure size 1440x864 with 5 Axes>"
      ]
     },
     "metadata": {},
     "output_type": "display_data"
    }
   ],
   "source": [
    "plt.figure(figsize=(20, 12))\n",
    "\n",
    "# Create a subplot of pie charts for each room type\n",
    "for idx, room in enumerate(['study room','servant room','store room','pooja room','others'], 1):\n",
    "    ax = plt.subplot(2, 3, idx)\n",
    "    df[room].value_counts().plot.pie(autopct='%1.1f%%', startangle=90, ax=ax)\n",
    "    plt.title(f'Distribution of {room.title()}')\n",
    "    plt.ylabel('')\n",
    "\n",
    "plt.tight_layout()\n",
    "plt.show()"
   ]
  },
  {
   "cell_type": "markdown",
   "id": "5f52f98c",
   "metadata": {},
   "source": [
    "### furnishing_type"
   ]
  },
  {
   "cell_type": "code",
   "execution_count": 168,
   "id": "264ba490",
   "metadata": {},
   "outputs": [
    {
     "data": {
      "text/plain": [
       "0    2411\n",
       "1    1059\n",
       "2     207\n",
       "Name: furnishing_type, dtype: int64"
      ]
     },
     "execution_count": 168,
     "metadata": {},
     "output_type": "execute_result"
    }
   ],
   "source": [
    "df['furnishing_type'].value_counts()"
   ]
  },
  {
   "cell_type": "code",
   "execution_count": 169,
   "id": "0fb27980",
   "metadata": {},
   "outputs": [
    {
     "data": {
      "text/plain": [
       "<AxesSubplot:ylabel='furnishing_type'>"
      ]
     },
     "execution_count": 169,
     "metadata": {},
     "output_type": "execute_result"
    },
    {
     "data": {
      "image/png": "[encoded data removed]",
      "text/plain": [
       "<Figure size 432x288 with 1 Axes>"
      ]
     },
     "metadata": {},
     "output_type": "display_data"
    }
   ],
   "source": [
    "df['furnishing_type'].value_counts().plot(kind='pie',autopct='%0.2f%%')"
   ]
  },
  {
   "cell_type": "markdown",
   "id": "e387801c",
   "metadata": {},
   "source": [
    "### luxury score"
   ]
  },
  {
   "cell_type": "code",
   "execution_count": 170,
   "id": "e6fef53d",
   "metadata": {},
   "outputs": [
    {
     "data": {
      "text/plain": [
       "0"
      ]
     },
     "execution_count": 170,
     "metadata": {},
     "output_type": "execute_result"
    }
   ],
   "source": [
    "df['luxury_score'].isnull().sum()"
   ]
  },
  {
   "cell_type": "code",
   "execution_count": 171,
   "id": "2e73221b",
   "metadata": {},
   "outputs": [
    {
     "data": {
      "text/plain": [
       "count    3677.000000\n",
       "mean       71.512918\n",
       "std        53.059082\n",
       "min         0.000000\n",
       "25%        31.000000\n",
       "50%        59.000000\n",
       "75%       110.000000\n",
       "max       174.000000\n",
       "Name: luxury_score, dtype: float64"
      ]
     },
     "execution_count": 171,
     "metadata": {},
     "output_type": "execute_result"
    }
   ],
   "source": [
    "df['luxury_score'].describe()"
   ]
  },
  {
   "cell_type": "code",
   "execution_count": 172,
   "id": "95e272d0",
   "metadata": {},
   "outputs": [
    {
     "data": {
      "text/plain": [
       "<AxesSubplot:xlabel='luxury_score', ylabel='Count'>"
      ]
     },
     "execution_count": 172,
     "metadata": {},
     "output_type": "execute_result"
    },
    {
     "data": {
      "image/png": "[encoded data removed]",
      "text/plain": [
       "<Figure size 432x288 with 1 Axes>"
      ]
     },
     "metadata": {
      "needs_background": "light"
     },
     "output_type": "display_data"
    }
   ],
   "source": [
    "sns.histplot(df['luxury_score'], bins=50, color='skyblue', kde=True)"
   ]
  },
  {
   "cell_type": "code",
   "execution_count": 173,
   "id": "95061cb0",
   "metadata": {},
   "outputs": [
    {
     "name": "stderr",
     "output_type": "stream",
     "text": [
      "C:\\Users\\Nitish\\anaconda3\\lib\\site-packages\\seaborn\\_decorators.py:36: FutureWarning: Pass the following variable as a keyword arg: x. From version 0.12, the only valid positional argument will be `data`, and passing other arguments without an explicit keyword will result in an error or misinterpretation.\n",
      "  warnings.warn(\n"
     ]
    },
    {
     "data": {
      "text/plain": [
       "<AxesSubplot:xlabel='luxury_score'>"
      ]
     },
     "execution_count": 173,
     "metadata": {},
     "output_type": "execute_result"
    },
    {
     "data": {
      "image/png": "[encoded data removed]",
      "text/plain": [
       "<Figure size 432x288 with 1 Axes>"
      ]
     },
     "metadata": {
      "needs_background": "light"
     },
     "output_type": "display_data"
    }
   ],
   "source": [
    "sns.boxplot(df['luxury_score'], color='lightgreen')"
   ]
  },
  {
   "cell_type": "markdown",
   "id": "f03fdea8",
   "metadata": {},
   "source": [
    "The luxury score distribution has multiple peaks, suggesting a multi-modal distribution. There's a significant number of properties with lower luxury scores (around 0-50), and another peak is observed around the 110-130 range.\n",
    "\n",
    "The box plot reveals that the majority of the properties have luxury scores between approximately 30 and 110. The interquartile range (IQR) lies between these values."
   ]
  },
  {
   "cell_type": "code",
   "execution_count": 179,
   "id": "67a66f1e",
   "metadata": {},
   "outputs": [
    {
     "data": {
      "text/html": [
       "<div>\n",
       "<style scoped>\n",
       "    .dataframe tbody tr th:only-of-type {\n",
       "        vertical-align: middle;\n",
       "    }\n",
       "\n",
       "    .dataframe tbody tr th {\n",
       "        vertical-align: top;\n",
       "    }\n",
       "\n",
       "    .dataframe thead th {\n",
       "        text-align: right;\n",
       "    }\n",
       "</style>\n",
       "<table border=\"1\" class=\"dataframe\">\n",
       "  <thead>\n",
       "    <tr style=\"text-align: right;\">\n",
       "      <th></th>\n",
       "      <th>property_type</th>\n",
       "      <th>society</th>\n",
       "      <th>sector</th>\n",
       "      <th>price</th>\n",
       "      <th>price_per_sqft</th>\n",
       "      <th>area</th>\n",
       "      <th>areaWithType</th>\n",
       "      <th>bedRoom</th>\n",
       "      <th>bathroom</th>\n",
       "      <th>balcony</th>\n",
       "      <th>...</th>\n",
       "      <th>super_built_up_area</th>\n",
       "      <th>built_up_area</th>\n",
       "      <th>carpet_area</th>\n",
       "      <th>study room</th>\n",
       "      <th>servant room</th>\n",
       "      <th>store room</th>\n",
       "      <th>pooja room</th>\n",
       "      <th>others</th>\n",
       "      <th>furnishing_type</th>\n",
       "      <th>luxury_score</th>\n",
       "    </tr>\n",
       "  </thead>\n",
       "  <tbody>\n",
       "    <tr>\n",
       "      <th>0</th>\n",
       "      <td>flat</td>\n",
       "      <td>signature global park 4</td>\n",
       "      <td>sector 36</td>\n",
       "      <td>0.82</td>\n",
       "      <td>7585.0</td>\n",
       "      <td>1081.0</td>\n",
       "      <td>Super Built up area 1081(100.43 sq.m.)Carpet a...</td>\n",
       "      <td>3</td>\n",
       "      <td>2</td>\n",
       "      <td>2</td>\n",
       "      <td>...</td>\n",
       "      <td>1081.0</td>\n",
       "      <td>NaN</td>\n",
       "      <td>650.0</td>\n",
       "      <td>0</td>\n",
       "      <td>0</td>\n",
       "      <td>0</td>\n",
       "      <td>0</td>\n",
       "      <td>0</td>\n",
       "      <td>0</td>\n",
       "      <td>8</td>\n",
       "    </tr>\n",
       "    <tr>\n",
       "      <th>1</th>\n",
       "      <td>flat</td>\n",
       "      <td>smart world gems</td>\n",
       "      <td>sector 89</td>\n",
       "      <td>0.95</td>\n",
       "      <td>8600.0</td>\n",
       "      <td>1105.0</td>\n",
       "      <td>Carpet area: 1103 (102.47 sq.m.)</td>\n",
       "      <td>2</td>\n",
       "      <td>2</td>\n",
       "      <td>2</td>\n",
       "      <td>...</td>\n",
       "      <td>NaN</td>\n",
       "      <td>NaN</td>\n",
       "      <td>1103.0</td>\n",
       "      <td>1</td>\n",
       "      <td>1</td>\n",
       "      <td>0</td>\n",
       "      <td>0</td>\n",
       "      <td>0</td>\n",
       "      <td>0</td>\n",
       "      <td>38</td>\n",
       "    </tr>\n",
       "    <tr>\n",
       "      <th>2</th>\n",
       "      <td>flat</td>\n",
       "      <td>pyramid elite</td>\n",
       "      <td>sector 86</td>\n",
       "      <td>0.46</td>\n",
       "      <td>79.0</td>\n",
       "      <td>58228.0</td>\n",
       "      <td>Carpet area: 58141 (5401.48 sq.m.)</td>\n",
       "      <td>2</td>\n",
       "      <td>2</td>\n",
       "      <td>1</td>\n",
       "      <td>...</td>\n",
       "      <td>NaN</td>\n",
       "      <td>NaN</td>\n",
       "      <td>58141.0</td>\n",
       "      <td>0</td>\n",
       "      <td>0</td>\n",
       "      <td>0</td>\n",
       "      <td>0</td>\n",
       "      <td>0</td>\n",
       "      <td>0</td>\n",
       "      <td>15</td>\n",
       "    </tr>\n",
       "    <tr>\n",
       "      <th>3</th>\n",
       "      <td>flat</td>\n",
       "      <td>breez global hill view</td>\n",
       "      <td>sohna road</td>\n",
       "      <td>0.32</td>\n",
       "      <td>5470.0</td>\n",
       "      <td>585.0</td>\n",
       "      <td>Built Up area: 1000 (92.9 sq.m.)Carpet area: 5...</td>\n",
       "      <td>2</td>\n",
       "      <td>2</td>\n",
       "      <td>1</td>\n",
       "      <td>...</td>\n",
       "      <td>NaN</td>\n",
       "      <td>1000.0</td>\n",
       "      <td>585.0</td>\n",
       "      <td>0</td>\n",
       "      <td>0</td>\n",
       "      <td>0</td>\n",
       "      <td>0</td>\n",
       "      <td>0</td>\n",
       "      <td>0</td>\n",
       "      <td>49</td>\n",
       "    </tr>\n",
       "    <tr>\n",
       "      <th>4</th>\n",
       "      <td>flat</td>\n",
       "      <td>bestech park view sanskruti</td>\n",
       "      <td>sector 92</td>\n",
       "      <td>1.60</td>\n",
       "      <td>8020.0</td>\n",
       "      <td>1995.0</td>\n",
       "      <td>Super Built up area 1995(185.34 sq.m.)Built Up...</td>\n",
       "      <td>3</td>\n",
       "      <td>4</td>\n",
       "      <td>3+</td>\n",
       "      <td>...</td>\n",
       "      <td>1995.0</td>\n",
       "      <td>1615.0</td>\n",
       "      <td>1476.0</td>\n",
       "      <td>0</td>\n",
       "      <td>1</td>\n",
       "      <td>0</td>\n",
       "      <td>0</td>\n",
       "      <td>1</td>\n",
       "      <td>1</td>\n",
       "      <td>174</td>\n",
       "    </tr>\n",
       "  </tbody>\n",
       "</table>\n",
       "<p>5 rows × 23 columns</p>\n",
       "</div>"
      ],
      "text/plain": [
       "  property_type                      society      sector  price  \\\n",
       "0          flat      signature global park 4   sector 36   0.82   \n",
       "1          flat             smart world gems   sector 89   0.95   \n",
       "2          flat                pyramid elite   sector 86   0.46   \n",
       "3          flat       breez global hill view  sohna road   0.32   \n",
       "4          flat  bestech park view sanskruti   sector 92   1.60   \n",
       "\n",
       "   price_per_sqft     area                                       areaWithType  \\\n",
       "0          7585.0   1081.0  Super Built up area 1081(100.43 sq.m.)Carpet a...   \n",
       "1          8600.0   1105.0                   Carpet area: 1103 (102.47 sq.m.)   \n",
       "2            79.0  58228.0                 Carpet area: 58141 (5401.48 sq.m.)   \n",
       "3          5470.0    585.0  Built Up area: 1000 (92.9 sq.m.)Carpet area: 5...   \n",
       "4          8020.0   1995.0  Super Built up area 1995(185.34 sq.m.)Built Up...   \n",
       "\n",
       "   bedRoom  bathroom balcony  ...  super_built_up_area built_up_area  \\\n",
       "0        3         2       2  ...               1081.0           NaN   \n",
       "1        2         2       2  ...                  NaN           NaN   \n",
       "2        2         2       1  ...                  NaN           NaN   \n",
       "3        2         2       1  ...                  NaN        1000.0   \n",
       "4        3         4      3+  ...               1995.0        1615.0   \n",
       "\n",
       "  carpet_area  study room  servant room  store room  pooja room  others  \\\n",
       "0       650.0           0             0           0           0       0   \n",
       "1      1103.0           1             1           0           0       0   \n",
       "2     58141.0           0             0           0           0       0   \n",
       "3       585.0           0             0           0           0       0   \n",
       "4      1476.0           0             1           0           0       1   \n",
       "\n",
       "   furnishing_type  luxury_score  \n",
       "0                0             8  \n",
       "1                0            38  \n",
       "2                0            15  \n",
       "3                0            49  \n",
       "4                1           174  \n",
       "\n",
       "[5 rows x 23 columns]"
      ]
     },
     "execution_count": 179,
     "metadata": {},
     "output_type": "execute_result"
    }
   ],
   "source": [
    "df.head()"
   ]
  },
  {
   "cell_type": "code",
   "execution_count": null,
   "id": "33276940",
   "metadata": {},
   "outputs": [],
   "source": []
  }
 ],
 "metadata": {
  "kernelspec": {
   "display_name": "Python 3 (ipykernel)",
   "language": "python",
   "name": "python3"
  },
  "language_info": {
   "codemirror_mode": {
    "name": "ipython",
    "version": 3
   },
   "file_extension": ".py",
   "mimetype": "text/x-python",
   "name": "python",
   "nbconvert_exporter": "python",
   "pygments_lexer": "ipython3",
   "version": "3.9.7"
  }
 },
 "nbformat": 4,
 "nbformat_minor": 5
}
